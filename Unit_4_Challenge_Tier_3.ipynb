{
  "nbformat": 4,
  "nbformat_minor": 0,
  "metadata": {
    "colab": {
      "name": "Unit 4 Challenge - Tier 3.ipynb",
      "provenance": [],
      "collapsed_sections": []
    },
    "kernelspec": {
      "display_name": "Python 3",
      "language": "python",
      "name": "python3"
    },
    "language_info": {
      "codemirror_mode": {
        "name": "ipython",
        "version": 3
      },
      "file_extension": ".py",
      "mimetype": "text/x-python",
      "name": "python",
      "nbconvert_exporter": "python",
      "pygments_lexer": "ipython3",
      "version": "3.7.2"
    }
  },
  "cells": [
    {
      "cell_type": "markdown",
      "metadata": {
        "colab_type": "text",
        "id": "Tia3MP1SJpgj"
      },
      "source": [
        "# Springboard Data Science Career Track Unit 4 Challenge - Tier 3 Complete\n",
        "\n",
        "## Objectives\n",
        "Hey! Great job getting through those challenging DataCamp courses. You're learning a lot in a short span of time. \n",
        "\n",
        "In this notebook, you're going to apply the skills you've been learning, bridging the gap between the controlled environment of DataCamp and the *slightly* messier work that data scientists do with actual datasets!\n",
        "\n",
        "Here’s the mystery we’re going to solve: ***which boroughs of London have seen the greatest increase in housing prices, on average, over the last two decades?***\n",
        "\n",
        "\n",
        "A borough is just a fancy word for district. You may be familiar with the five boroughs of New York… well, there are 32 boroughs within Greater London [(here's some info for the curious)](https://en.wikipedia.org/wiki/London_boroughs). Some of them are more desirable areas to live in, and the data will reflect that with a greater rise in housing prices.\n",
        "\n",
        "***This is the Tier 3 notebook, which means it's not filled in at all: we'll just give you the skeleton of a project, the brief and the data. It's up to you to play around with it and see what you can find out! Good luck! If you struggle, feel free to look at easier tiers for help; but try to dip in and out of them, as the more independent work you do, the better it is for your learning!***\n",
        "\n",
        "This challenge will make use of only what you learned in the following DataCamp courses: \n",
        "- Prework courses (Introduction to Python for Data Science, Intermediate Python for Data Science)\n",
        "- Data Types for Data Science\n",
        "- Python Data Science Toolbox (Part One) \n",
        "- pandas Foundations\n",
        "- Manipulating DataFrames with pandas\n",
        "- Merging DataFrames with pandas\n",
        "\n",
        "Of the tools, techniques and concepts in the above DataCamp courses, this challenge should require the application of the following: \n",
        "- **pandas**\n",
        "    - **data ingestion and inspection** (pandas Foundations, Module One) \n",
        "    - **exploratory data analysis** (pandas Foundations, Module Two)\n",
        "    - **tidying and cleaning** (Manipulating DataFrames with pandas, Module Three) \n",
        "    - **transforming DataFrames** (Manipulating DataFrames with pandas, Module One)\n",
        "    - **subsetting DataFrames with lists** (Manipulating DataFrames with pandas, Module One) \n",
        "    - **filtering DataFrames** (Manipulating DataFrames with pandas, Module One) \n",
        "    - **grouping data** (Manipulating DataFrames with pandas, Module Four) \n",
        "    - **melting data** (Manipulating DataFrames with pandas, Module Three) \n",
        "    - **advanced indexing** (Manipulating DataFrames with pandas, Module Four) \n",
        "- **matplotlib** (Intermediate Python for Data Science, Module One)\n",
        "- **fundamental data types** (Data Types for Data Science, Module One) \n",
        "- **dictionaries** (Intermediate Python for Data Science, Module Two)\n",
        "- **handling dates and times** (Data Types for Data Science, Module Four)\n",
        "- **function definition** (Python Data Science Toolbox - Part One, Module One)\n",
        "- **default arguments, variable length, and scope** (Python Data Science Toolbox - Part One, Module Two) \n",
        "- **lambda functions and error handling** (Python Data Science Toolbox - Part One, Module Four) "
      ]
    },
    {
      "cell_type": "markdown",
      "metadata": {
        "colab_type": "text",
        "id": "Ipgd2nV8Jpgl"
      },
      "source": [
        "## The Data Science Pipeline\n",
        "\n",
        "This is Tier Three, so we'll get you started. But after that, it's all in your hands! When you feel done with your investigations, look back over what you've accomplished, and prepare a quick presentation of your findings for the next mentor meeting. \n",
        "\n",
        "Data Science is magical. In this case study, you'll get to apply some complex machine learning algorithms. But as  [David Spiegelhalter](https://www.youtube.com/watch?v=oUs1uvsz0Ok) reminds us, there is no substitute for simply **taking a really, really good look at the data.** Sometimes, this is all we need to answer our question.\n",
        "\n",
        "Data Science projects generally adhere to the four stages of Data Science Pipeline:\n",
        "1. Sourcing and loading \n",
        "2. Cleaning, transforming, and visualizing \n",
        "3. Modeling \n",
        "4. Evaluating and concluding \n"
      ]
    },
    {
      "cell_type": "markdown",
      "metadata": {
        "colab_type": "text",
        "id": "zswDqbefJpgm"
      },
      "source": [
        "### 1. Sourcing and Loading \n",
        "\n",
        "Any Data Science project kicks off by importing  ***pandas***. The documentation of this wonderful library can be found [here](https://pandas.pydata.org/). As you've seen, pandas is conveniently connected to the [Numpy](http://www.numpy.org/) and [Matplotlib](https://matplotlib.org/) libraries. \n",
        "\n",
        "***Hint:*** This part of the data science pipeline will test those skills you acquired in the pandas Foundations course, Module One. "
      ]
    },
    {
      "cell_type": "markdown",
      "metadata": {
        "colab_type": "text",
        "id": "aEau5nEvJpgm"
      },
      "source": [
        "#### 1.1. Importing Libraries"
      ]
    },
    {
      "cell_type": "code",
      "metadata": {
        "colab_type": "code",
        "id": "7Bt_Q_oPJpgn",
        "colab": {}
      },
      "source": [
        "# Let's import the pandas, numpy libraries as pd, and np respectively. \n",
        "import pandas as pd\n",
        "import numpy as np\n",
        "\n",
        "# Load the pyplot collection of functions from matplotlib, as plt \n",
        "import matplotlib.pyplot as plt"
      ],
      "execution_count": 40,
      "outputs": []
    },
    {
      "cell_type": "markdown",
      "metadata": {
        "colab_type": "text",
        "id": "koUrawxsJpgq"
      },
      "source": [
        "#### 1.2.  Loading the data\n",
        "Your data comes from the [London Datastore](https://data.london.gov.uk/): a free, open-source data-sharing portal for London-oriented datasets. "
      ]
    },
    {
      "cell_type": "code",
      "metadata": {
        "colab_type": "code",
        "id": "AiLiD4v3Jpgr",
        "colab": {}
      },
      "source": [
        "# First, make a variable called url_LondonHousePrices, and assign it the following link, enclosed in quotation-marks as a string:\n",
        "# https://data.london.gov.uk/download/uk-house-price-index/70ac0766-8902-4eb5-aab5-01951aaed773/UK%20House%20price%20index.xls\n",
        "\n",
        "url_LondonHousePrices = \"https://data.london.gov.uk/download/uk-house-price-index/70ac0766-8902-4eb5-aab5-01951aaed773/UK%20House%20price%20index.xls\"\n",
        "\n",
        "# The dataset we're interested in contains the Average prices of the houses, and is actually on a particular sheet of the Excel file. \n",
        "# As a result, we need to specify the sheet name in the read_excel() method.\n",
        "# Put this data into a variable called properties.  \n",
        "properties = pd.read_excel(url_LondonHousePrices, sheet_name='Average price', index_col= None)"
      ],
      "execution_count": 88,
      "outputs": []
    },
    {
      "cell_type": "markdown",
      "metadata": {
        "colab_type": "text",
        "id": "POukEJXgJpgu"
      },
      "source": [
        "### 2. Cleaning, transforming, and visualizing\n",
        "This second stage is arguably the most important part of any Data Science project. The first thing to do is take a proper look at the data. Cleaning forms the majority of this stage, and can be done both before or after Transformation.\n",
        "\n",
        "The end goal of data cleaning is to have tidy data. When data is tidy: \n",
        "\n",
        "1. Each variable has a column.\n",
        "2. Each observation forms a row.\n",
        "\n",
        "Keep the end goal in mind as you move through this process, every step will take you closer. \n",
        "\n",
        "\n",
        "\n",
        "***Hint:*** This part of the data science pipeline should test those skills you acquired in: \n",
        "- Intermediate Python for data science, all modules.\n",
        "- pandas Foundations, all modules. \n",
        "- Manipulating DataFrames with pandas, all modules.\n",
        "- Data Types for Data Science, Module Four.\n",
        "- Python Data Science Toolbox - Part One, all modules"
      ]
    },
    {
      "cell_type": "markdown",
      "metadata": {
        "colab_type": "text",
        "id": "Te0Q548tnzZa"
      },
      "source": [
        "**2.1. Exploring your data** \n",
        "\n",
        "Think about your pandas functions for checking out a dataframe. "
      ]
    },
    {
      "cell_type": "code",
      "metadata": {
        "colab_type": "code",
        "id": "Rxirxw_qoAJa",
        "colab": {
          "base_uri": "https://localhost:8080/",
          "height": 326
        },
        "outputId": "a88e1e29-5780-4476-a4ec-872777fa4c1a"
      },
      "source": [
        "properties.head()"
      ],
      "execution_count": 89,
      "outputs": [
        {
          "output_type": "execute_result",
          "data": {
            "text/html": [
              "<div>\n",
              "<style scoped>\n",
              "    .dataframe tbody tr th:only-of-type {\n",
              "        vertical-align: middle;\n",
              "    }\n",
              "\n",
              "    .dataframe tbody tr th {\n",
              "        vertical-align: top;\n",
              "    }\n",
              "\n",
              "    .dataframe thead th {\n",
              "        text-align: right;\n",
              "    }\n",
              "</style>\n",
              "<table border=\"1\" class=\"dataframe\">\n",
              "  <thead>\n",
              "    <tr style=\"text-align: right;\">\n",
              "      <th></th>\n",
              "      <th>Unnamed: 0</th>\n",
              "      <th>City of London</th>\n",
              "      <th>Barking &amp; Dagenham</th>\n",
              "      <th>Barnet</th>\n",
              "      <th>Bexley</th>\n",
              "      <th>Brent</th>\n",
              "      <th>Bromley</th>\n",
              "      <th>Camden</th>\n",
              "      <th>Croydon</th>\n",
              "      <th>Ealing</th>\n",
              "      <th>Enfield</th>\n",
              "      <th>Greenwich</th>\n",
              "      <th>Hackney</th>\n",
              "      <th>Hammersmith &amp; Fulham</th>\n",
              "      <th>Haringey</th>\n",
              "      <th>Harrow</th>\n",
              "      <th>Havering</th>\n",
              "      <th>Hillingdon</th>\n",
              "      <th>Hounslow</th>\n",
              "      <th>Islington</th>\n",
              "      <th>Kensington &amp; Chelsea</th>\n",
              "      <th>Kingston upon Thames</th>\n",
              "      <th>Lambeth</th>\n",
              "      <th>Lewisham</th>\n",
              "      <th>Merton</th>\n",
              "      <th>Newham</th>\n",
              "      <th>Redbridge</th>\n",
              "      <th>Richmond upon Thames</th>\n",
              "      <th>Southwark</th>\n",
              "      <th>Sutton</th>\n",
              "      <th>Tower Hamlets</th>\n",
              "      <th>Waltham Forest</th>\n",
              "      <th>Wandsworth</th>\n",
              "      <th>Westminster</th>\n",
              "      <th>Unnamed: 34</th>\n",
              "      <th>Inner London</th>\n",
              "      <th>Outer London</th>\n",
              "      <th>Unnamed: 37</th>\n",
              "      <th>NORTH EAST</th>\n",
              "      <th>NORTH WEST</th>\n",
              "      <th>YORKS &amp; THE HUMBER</th>\n",
              "      <th>EAST MIDLANDS</th>\n",
              "      <th>WEST MIDLANDS</th>\n",
              "      <th>EAST OF ENGLAND</th>\n",
              "      <th>LONDON</th>\n",
              "      <th>SOUTH EAST</th>\n",
              "      <th>SOUTH WEST</th>\n",
              "      <th>Unnamed: 47</th>\n",
              "      <th>England</th>\n",
              "    </tr>\n",
              "  </thead>\n",
              "  <tbody>\n",
              "    <tr>\n",
              "      <th>0</th>\n",
              "      <td>NaT</td>\n",
              "      <td>E09000001</td>\n",
              "      <td>E09000002</td>\n",
              "      <td>E09000003</td>\n",
              "      <td>E09000004</td>\n",
              "      <td>E09000005</td>\n",
              "      <td>E09000006</td>\n",
              "      <td>E09000007</td>\n",
              "      <td>E09000008</td>\n",
              "      <td>E09000009</td>\n",
              "      <td>E09000010</td>\n",
              "      <td>E09000011</td>\n",
              "      <td>E09000012</td>\n",
              "      <td>E09000013</td>\n",
              "      <td>E09000014</td>\n",
              "      <td>E09000015</td>\n",
              "      <td>E09000016</td>\n",
              "      <td>E09000017</td>\n",
              "      <td>E09000018</td>\n",
              "      <td>E09000019</td>\n",
              "      <td>E09000020</td>\n",
              "      <td>E09000021</td>\n",
              "      <td>E09000022</td>\n",
              "      <td>E09000023</td>\n",
              "      <td>E09000024</td>\n",
              "      <td>E09000025</td>\n",
              "      <td>E09000026</td>\n",
              "      <td>E09000027</td>\n",
              "      <td>E09000028</td>\n",
              "      <td>E09000029</td>\n",
              "      <td>E09000030</td>\n",
              "      <td>E09000031</td>\n",
              "      <td>E09000032</td>\n",
              "      <td>E09000033</td>\n",
              "      <td>NaN</td>\n",
              "      <td>E13000001</td>\n",
              "      <td>E13000002</td>\n",
              "      <td>NaN</td>\n",
              "      <td>E12000001</td>\n",
              "      <td>E12000002</td>\n",
              "      <td>E12000003</td>\n",
              "      <td>E12000004</td>\n",
              "      <td>E12000005</td>\n",
              "      <td>E12000006</td>\n",
              "      <td>E12000007</td>\n",
              "      <td>E12000008</td>\n",
              "      <td>E12000009</td>\n",
              "      <td>NaN</td>\n",
              "      <td>E92000001</td>\n",
              "    </tr>\n",
              "    <tr>\n",
              "      <th>1</th>\n",
              "      <td>1995-01-01</td>\n",
              "      <td>91449</td>\n",
              "      <td>50460.2</td>\n",
              "      <td>93284.5</td>\n",
              "      <td>64958.1</td>\n",
              "      <td>71306.6</td>\n",
              "      <td>81671.5</td>\n",
              "      <td>120933</td>\n",
              "      <td>69158.2</td>\n",
              "      <td>79885.9</td>\n",
              "      <td>72514.7</td>\n",
              "      <td>62300.1</td>\n",
              "      <td>61296.5</td>\n",
              "      <td>124903</td>\n",
              "      <td>76287.6</td>\n",
              "      <td>84769.5</td>\n",
              "      <td>68000.1</td>\n",
              "      <td>73834.8</td>\n",
              "      <td>72231.7</td>\n",
              "      <td>92516.5</td>\n",
              "      <td>182695</td>\n",
              "      <td>80875.8</td>\n",
              "      <td>67771</td>\n",
              "      <td>60491.3</td>\n",
              "      <td>82070.6</td>\n",
              "      <td>53539.3</td>\n",
              "      <td>72189.6</td>\n",
              "      <td>109326</td>\n",
              "      <td>67885.2</td>\n",
              "      <td>71537</td>\n",
              "      <td>59865.2</td>\n",
              "      <td>61319.4</td>\n",
              "      <td>88559</td>\n",
              "      <td>133025</td>\n",
              "      <td>NaN</td>\n",
              "      <td>78252</td>\n",
              "      <td>72958.8</td>\n",
              "      <td>NaN</td>\n",
              "      <td>42076.4</td>\n",
              "      <td>43958.5</td>\n",
              "      <td>44803.4</td>\n",
              "      <td>45544.5</td>\n",
              "      <td>48527.5</td>\n",
              "      <td>56701.6</td>\n",
              "      <td>74435.8</td>\n",
              "      <td>64018.9</td>\n",
              "      <td>54705.2</td>\n",
              "      <td>NaN</td>\n",
              "      <td>53202.8</td>\n",
              "    </tr>\n",
              "    <tr>\n",
              "      <th>2</th>\n",
              "      <td>1995-02-01</td>\n",
              "      <td>82202.8</td>\n",
              "      <td>51085.8</td>\n",
              "      <td>93190.2</td>\n",
              "      <td>64787.9</td>\n",
              "      <td>72022.3</td>\n",
              "      <td>81657.6</td>\n",
              "      <td>119509</td>\n",
              "      <td>68951.1</td>\n",
              "      <td>80897.1</td>\n",
              "      <td>73155.2</td>\n",
              "      <td>60993.3</td>\n",
              "      <td>63187.1</td>\n",
              "      <td>122088</td>\n",
              "      <td>78901.2</td>\n",
              "      <td>83396.1</td>\n",
              "      <td>69393.5</td>\n",
              "      <td>75031.1</td>\n",
              "      <td>71051.6</td>\n",
              "      <td>94342.4</td>\n",
              "      <td>182345</td>\n",
              "      <td>81230.1</td>\n",
              "      <td>65381.5</td>\n",
              "      <td>60869.3</td>\n",
              "      <td>79982.7</td>\n",
              "      <td>53153.9</td>\n",
              "      <td>72141.6</td>\n",
              "      <td>111103</td>\n",
              "      <td>64799.1</td>\n",
              "      <td>70893.2</td>\n",
              "      <td>62318.5</td>\n",
              "      <td>60252.1</td>\n",
              "      <td>88641</td>\n",
              "      <td>131468</td>\n",
              "      <td>NaN</td>\n",
              "      <td>75885.7</td>\n",
              "      <td>72937.9</td>\n",
              "      <td>NaN</td>\n",
              "      <td>42572</td>\n",
              "      <td>43925.4</td>\n",
              "      <td>44528.8</td>\n",
              "      <td>46051.6</td>\n",
              "      <td>49341.3</td>\n",
              "      <td>56593.6</td>\n",
              "      <td>72777.9</td>\n",
              "      <td>63715</td>\n",
              "      <td>54356.1</td>\n",
              "      <td>NaN</td>\n",
              "      <td>53096.2</td>\n",
              "    </tr>\n",
              "    <tr>\n",
              "      <th>3</th>\n",
              "      <td>1995-03-01</td>\n",
              "      <td>79120.7</td>\n",
              "      <td>51269</td>\n",
              "      <td>92247.5</td>\n",
              "      <td>64367.5</td>\n",
              "      <td>72015.8</td>\n",
              "      <td>81449.3</td>\n",
              "      <td>120282</td>\n",
              "      <td>68712.4</td>\n",
              "      <td>81379.9</td>\n",
              "      <td>72190.4</td>\n",
              "      <td>61377.8</td>\n",
              "      <td>63593.3</td>\n",
              "      <td>120636</td>\n",
              "      <td>78521.9</td>\n",
              "      <td>83416.2</td>\n",
              "      <td>69368</td>\n",
              "      <td>74188.7</td>\n",
              "      <td>72098</td>\n",
              "      <td>93465.9</td>\n",
              "      <td>182879</td>\n",
              "      <td>81111.5</td>\n",
              "      <td>66336.5</td>\n",
              "      <td>60288</td>\n",
              "      <td>80661.7</td>\n",
              "      <td>53458.3</td>\n",
              "      <td>72501.4</td>\n",
              "      <td>107325</td>\n",
              "      <td>65763.3</td>\n",
              "      <td>70306.8</td>\n",
              "      <td>63938.7</td>\n",
              "      <td>60871.1</td>\n",
              "      <td>87124.8</td>\n",
              "      <td>132260</td>\n",
              "      <td>NaN</td>\n",
              "      <td>76591.6</td>\n",
              "      <td>72714.5</td>\n",
              "      <td>NaN</td>\n",
              "      <td>42369.7</td>\n",
              "      <td>44434.9</td>\n",
              "      <td>45200.5</td>\n",
              "      <td>45383.8</td>\n",
              "      <td>49442.2</td>\n",
              "      <td>56171.2</td>\n",
              "      <td>73896.8</td>\n",
              "      <td>64113.6</td>\n",
              "      <td>53583.1</td>\n",
              "      <td>NaN</td>\n",
              "      <td>53201.3</td>\n",
              "    </tr>\n",
              "    <tr>\n",
              "      <th>4</th>\n",
              "      <td>1995-04-01</td>\n",
              "      <td>77101.2</td>\n",
              "      <td>53133.5</td>\n",
              "      <td>90762.9</td>\n",
              "      <td>64277.7</td>\n",
              "      <td>72965.6</td>\n",
              "      <td>81124.4</td>\n",
              "      <td>120098</td>\n",
              "      <td>68610</td>\n",
              "      <td>82188.9</td>\n",
              "      <td>71442.9</td>\n",
              "      <td>61927.7</td>\n",
              "      <td>65139.6</td>\n",
              "      <td>121425</td>\n",
              "      <td>79545.6</td>\n",
              "      <td>83567.9</td>\n",
              "      <td>69444.3</td>\n",
              "      <td>73911.4</td>\n",
              "      <td>71890.3</td>\n",
              "      <td>93344.5</td>\n",
              "      <td>184177</td>\n",
              "      <td>81672.8</td>\n",
              "      <td>66388.8</td>\n",
              "      <td>59471</td>\n",
              "      <td>79990.5</td>\n",
              "      <td>54479.8</td>\n",
              "      <td>72228.6</td>\n",
              "      <td>106875</td>\n",
              "      <td>63073.6</td>\n",
              "      <td>69411.9</td>\n",
              "      <td>66233.2</td>\n",
              "      <td>60971.4</td>\n",
              "      <td>87026</td>\n",
              "      <td>133370</td>\n",
              "      <td>NaN</td>\n",
              "      <td>76851.6</td>\n",
              "      <td>72591.9</td>\n",
              "      <td>NaN</td>\n",
              "      <td>42095.8</td>\n",
              "      <td>44267.8</td>\n",
              "      <td>45614.3</td>\n",
              "      <td>46124.2</td>\n",
              "      <td>49455.9</td>\n",
              "      <td>56567.9</td>\n",
              "      <td>74455.3</td>\n",
              "      <td>64623.2</td>\n",
              "      <td>54786</td>\n",
              "      <td>NaN</td>\n",
              "      <td>53590.9</td>\n",
              "    </tr>\n",
              "  </tbody>\n",
              "</table>\n",
              "</div>"
            ],
            "text/plain": [
              "  Unnamed: 0 City of London  ... Unnamed: 47    England\n",
              "0        NaT      E09000001  ...         NaN  E92000001\n",
              "1 1995-01-01          91449  ...         NaN    53202.8\n",
              "2 1995-02-01        82202.8  ...         NaN    53096.2\n",
              "3 1995-03-01        79120.7  ...         NaN    53201.3\n",
              "4 1995-04-01        77101.2  ...         NaN    53590.9\n",
              "\n",
              "[5 rows x 49 columns]"
            ]
          },
          "metadata": {
            "tags": []
          },
          "execution_count": 89
        }
      ]
    },
    {
      "cell_type": "markdown",
      "metadata": {
        "colab_type": "text",
        "id": "tE9Sqt9-oAta"
      },
      "source": [
        "**2.2. Cleaning the data**\n",
        "\n",
        "You might find you need to transpose your dataframe, check out what its row indexes are, and reset the index. You  also might find you need to assign the values of the first row to your column headings  . (Hint: recall the .columns feature of DataFrames, as well as the iloc[] method).\n",
        "\n",
        "Don't be afraid to use StackOverflow for help  with this."
      ]
    },
    {
      "cell_type": "code",
      "metadata": {
        "colab_type": "code",
        "id": "cdAu1A3YoH_r",
        "colab": {}
      },
      "source": [
        "properties = properties.transpose()"
      ],
      "execution_count": 90,
      "outputs": []
    },
    {
      "cell_type": "code",
      "metadata": {
        "id": "bhKz8wyU_Tkg",
        "colab_type": "code",
        "colab": {}
      },
      "source": [
        "properties.reset_index(inplace=True)"
      ],
      "execution_count": 91,
      "outputs": []
    },
    {
      "cell_type": "code",
      "metadata": {
        "id": "pmNySccRAk6G",
        "colab_type": "code",
        "colab": {}
      },
      "source": [
        "cols = properties.iloc[0]"
      ],
      "execution_count": 92,
      "outputs": []
    },
    {
      "cell_type": "code",
      "metadata": {
        "id": "rLYkotFfBAt4",
        "colab_type": "code",
        "colab": {}
      },
      "source": [
        "properties.columns = cols"
      ],
      "execution_count": 93,
      "outputs": []
    },
    {
      "cell_type": "code",
      "metadata": {
        "id": "vWpqXDBkAt11",
        "colab_type": "code",
        "colab": {}
      },
      "source": [
        "properties.drop(0, axis=0, inplace=True)"
      ],
      "execution_count": 94,
      "outputs": []
    },
    {
      "cell_type": "markdown",
      "metadata": {
        "colab_type": "text",
        "id": "o1uLbJAsoIjK"
      },
      "source": [
        "**2.3. Cleaning the data (part 2)**\n",
        "\n",
        "You might we have to **rename** a couple columns. How do you do this? The clue's pretty bold..."
      ]
    },
    {
      "cell_type": "code",
      "metadata": {
        "colab_type": "code",
        "id": "GKkmn1AnoVZS",
        "colab": {
          "base_uri": "https://localhost:8080/",
          "height": 321
        },
        "outputId": "fb27107d-66bd-4941-bb3b-942f2042fbae"
      },
      "source": [
        "properties.head()"
      ],
      "execution_count": 95,
      "outputs": [
        {
          "output_type": "execute_result",
          "data": {
            "text/html": [
              "<div>\n",
              "<style scoped>\n",
              "    .dataframe tbody tr th:only-of-type {\n",
              "        vertical-align: middle;\n",
              "    }\n",
              "\n",
              "    .dataframe tbody tr th {\n",
              "        vertical-align: top;\n",
              "    }\n",
              "\n",
              "    .dataframe thead th {\n",
              "        text-align: right;\n",
              "    }\n",
              "</style>\n",
              "<table border=\"1\" class=\"dataframe\">\n",
              "  <thead>\n",
              "    <tr style=\"text-align: right;\">\n",
              "      <th></th>\n",
              "      <th>Unnamed: 0</th>\n",
              "      <th>NaN</th>\n",
              "      <th>1995-01-01 00:00:00</th>\n",
              "      <th>1995-02-01 00:00:00</th>\n",
              "      <th>1995-03-01 00:00:00</th>\n",
              "      <th>1995-04-01 00:00:00</th>\n",
              "      <th>1995-05-01 00:00:00</th>\n",
              "      <th>1995-06-01 00:00:00</th>\n",
              "      <th>1995-07-01 00:00:00</th>\n",
              "      <th>1995-08-01 00:00:00</th>\n",
              "      <th>1995-09-01 00:00:00</th>\n",
              "      <th>1995-10-01 00:00:00</th>\n",
              "      <th>1995-11-01 00:00:00</th>\n",
              "      <th>1995-12-01 00:00:00</th>\n",
              "      <th>1996-01-01 00:00:00</th>\n",
              "      <th>1996-02-01 00:00:00</th>\n",
              "      <th>1996-03-01 00:00:00</th>\n",
              "      <th>1996-04-01 00:00:00</th>\n",
              "      <th>1996-05-01 00:00:00</th>\n",
              "      <th>1996-06-01 00:00:00</th>\n",
              "      <th>1996-07-01 00:00:00</th>\n",
              "      <th>1996-08-01 00:00:00</th>\n",
              "      <th>1996-09-01 00:00:00</th>\n",
              "      <th>1996-10-01 00:00:00</th>\n",
              "      <th>1996-11-01 00:00:00</th>\n",
              "      <th>1996-12-01 00:00:00</th>\n",
              "      <th>1997-01-01 00:00:00</th>\n",
              "      <th>1997-02-01 00:00:00</th>\n",
              "      <th>1997-03-01 00:00:00</th>\n",
              "      <th>1997-04-01 00:00:00</th>\n",
              "      <th>1997-05-01 00:00:00</th>\n",
              "      <th>1997-06-01 00:00:00</th>\n",
              "      <th>1997-07-01 00:00:00</th>\n",
              "      <th>1997-08-01 00:00:00</th>\n",
              "      <th>1997-09-01 00:00:00</th>\n",
              "      <th>1997-10-01 00:00:00</th>\n",
              "      <th>1997-11-01 00:00:00</th>\n",
              "      <th>1997-12-01 00:00:00</th>\n",
              "      <th>1998-01-01 00:00:00</th>\n",
              "      <th>1998-02-01 00:00:00</th>\n",
              "      <th>...</th>\n",
              "      <th>2016-12-01 00:00:00</th>\n",
              "      <th>2017-01-01 00:00:00</th>\n",
              "      <th>2017-02-01 00:00:00</th>\n",
              "      <th>2017-03-01 00:00:00</th>\n",
              "      <th>2017-04-01 00:00:00</th>\n",
              "      <th>2017-05-01 00:00:00</th>\n",
              "      <th>2017-06-01 00:00:00</th>\n",
              "      <th>2017-07-01 00:00:00</th>\n",
              "      <th>2017-08-01 00:00:00</th>\n",
              "      <th>2017-09-01 00:00:00</th>\n",
              "      <th>2017-10-01 00:00:00</th>\n",
              "      <th>2017-11-01 00:00:00</th>\n",
              "      <th>2017-12-01 00:00:00</th>\n",
              "      <th>2018-01-01 00:00:00</th>\n",
              "      <th>2018-02-01 00:00:00</th>\n",
              "      <th>2018-03-01 00:00:00</th>\n",
              "      <th>2018-04-01 00:00:00</th>\n",
              "      <th>2018-05-01 00:00:00</th>\n",
              "      <th>2018-06-01 00:00:00</th>\n",
              "      <th>2018-07-01 00:00:00</th>\n",
              "      <th>2018-08-01 00:00:00</th>\n",
              "      <th>2018-09-01 00:00:00</th>\n",
              "      <th>2018-10-01 00:00:00</th>\n",
              "      <th>2018-11-01 00:00:00</th>\n",
              "      <th>2018-12-01 00:00:00</th>\n",
              "      <th>2019-01-01 00:00:00</th>\n",
              "      <th>2019-02-01 00:00:00</th>\n",
              "      <th>2019-03-01 00:00:00</th>\n",
              "      <th>2019-04-01 00:00:00</th>\n",
              "      <th>2019-05-01 00:00:00</th>\n",
              "      <th>2019-06-01 00:00:00</th>\n",
              "      <th>2019-07-01 00:00:00</th>\n",
              "      <th>2019-08-01 00:00:00</th>\n",
              "      <th>2019-09-01 00:00:00</th>\n",
              "      <th>2019-10-01 00:00:00</th>\n",
              "      <th>2019-11-01 00:00:00</th>\n",
              "      <th>2019-12-01 00:00:00</th>\n",
              "      <th>2020-01-01 00:00:00</th>\n",
              "      <th>2020-02-01 00:00:00</th>\n",
              "      <th>2020-03-01 00:00:00</th>\n",
              "    </tr>\n",
              "  </thead>\n",
              "  <tbody>\n",
              "    <tr>\n",
              "      <th>1</th>\n",
              "      <td>City of London</td>\n",
              "      <td>E09000001</td>\n",
              "      <td>91449</td>\n",
              "      <td>82202.8</td>\n",
              "      <td>79120.7</td>\n",
              "      <td>77101.2</td>\n",
              "      <td>84409.1</td>\n",
              "      <td>94900.5</td>\n",
              "      <td>110128</td>\n",
              "      <td>112329</td>\n",
              "      <td>104473</td>\n",
              "      <td>108038</td>\n",
              "      <td>117636</td>\n",
              "      <td>127232</td>\n",
              "      <td>108999</td>\n",
              "      <td>93356.7</td>\n",
              "      <td>93706.7</td>\n",
              "      <td>120543</td>\n",
              "      <td>112050</td>\n",
              "      <td>114226</td>\n",
              "      <td>97546.7</td>\n",
              "      <td>114179</td>\n",
              "      <td>108138</td>\n",
              "      <td>98934.2</td>\n",
              "      <td>99706.8</td>\n",
              "      <td>106427</td>\n",
              "      <td>116343</td>\n",
              "      <td>111142</td>\n",
              "      <td>107488</td>\n",
              "      <td>108480</td>\n",
              "      <td>115453</td>\n",
              "      <td>118317</td>\n",
              "      <td>117034</td>\n",
              "      <td>113585</td>\n",
              "      <td>115159</td>\n",
              "      <td>121251</td>\n",
              "      <td>131074</td>\n",
              "      <td>130035</td>\n",
              "      <td>124382</td>\n",
              "      <td>143829</td>\n",
              "      <td>...</td>\n",
              "      <td>811786</td>\n",
              "      <td>820305</td>\n",
              "      <td>820665</td>\n",
              "      <td>853943</td>\n",
              "      <td>906146</td>\n",
              "      <td>939912</td>\n",
              "      <td>930979</td>\n",
              "      <td>854798</td>\n",
              "      <td>847422</td>\n",
              "      <td>836674</td>\n",
              "      <td>818477</td>\n",
              "      <td>790159</td>\n",
              "      <td>778002</td>\n",
              "      <td>802129</td>\n",
              "      <td>783266</td>\n",
              "      <td>740799</td>\n",
              "      <td>732351</td>\n",
              "      <td>796399</td>\n",
              "      <td>789278</td>\n",
              "      <td>809697</td>\n",
              "      <td>784144</td>\n",
              "      <td>800875</td>\n",
              "      <td>802869</td>\n",
              "      <td>764207</td>\n",
              "      <td>811694</td>\n",
              "      <td>865636</td>\n",
              "      <td>894520</td>\n",
              "      <td>853451</td>\n",
              "      <td>738797</td>\n",
              "      <td>719218</td>\n",
              "      <td>761526</td>\n",
              "      <td>756407</td>\n",
              "      <td>813770</td>\n",
              "      <td>810455</td>\n",
              "      <td>826227</td>\n",
              "      <td>776894</td>\n",
              "      <td>737275</td>\n",
              "      <td>757377</td>\n",
              "      <td>765416</td>\n",
              "      <td>792583</td>\n",
              "    </tr>\n",
              "    <tr>\n",
              "      <th>2</th>\n",
              "      <td>Barking &amp; Dagenham</td>\n",
              "      <td>E09000002</td>\n",
              "      <td>50460.2</td>\n",
              "      <td>51085.8</td>\n",
              "      <td>51269</td>\n",
              "      <td>53133.5</td>\n",
              "      <td>53042.2</td>\n",
              "      <td>53700.3</td>\n",
              "      <td>52113.1</td>\n",
              "      <td>52232.2</td>\n",
              "      <td>51471.6</td>\n",
              "      <td>51513.8</td>\n",
              "      <td>50848.7</td>\n",
              "      <td>50945.2</td>\n",
              "      <td>50828.1</td>\n",
              "      <td>51440.7</td>\n",
              "      <td>51907.1</td>\n",
              "      <td>51724</td>\n",
              "      <td>51735.7</td>\n",
              "      <td>50761.4</td>\n",
              "      <td>50621.1</td>\n",
              "      <td>51104.7</td>\n",
              "      <td>51892.7</td>\n",
              "      <td>52533.2</td>\n",
              "      <td>52216</td>\n",
              "      <td>53853.5</td>\n",
              "      <td>54459</td>\n",
              "      <td>55451.5</td>\n",
              "      <td>55004.8</td>\n",
              "      <td>55279.9</td>\n",
              "      <td>54936.9</td>\n",
              "      <td>55286.7</td>\n",
              "      <td>55658.9</td>\n",
              "      <td>56506.7</td>\n",
              "      <td>56306.3</td>\n",
              "      <td>57200.2</td>\n",
              "      <td>57575.3</td>\n",
              "      <td>58025</td>\n",
              "      <td>57559</td>\n",
              "      <td>57360.3</td>\n",
              "      <td>...</td>\n",
              "      <td>285622</td>\n",
              "      <td>282441</td>\n",
              "      <td>280698</td>\n",
              "      <td>278213</td>\n",
              "      <td>280567</td>\n",
              "      <td>286018</td>\n",
              "      <td>289569</td>\n",
              "      <td>291727</td>\n",
              "      <td>290965</td>\n",
              "      <td>292519</td>\n",
              "      <td>293390</td>\n",
              "      <td>293796</td>\n",
              "      <td>292915</td>\n",
              "      <td>291548</td>\n",
              "      <td>292777</td>\n",
              "      <td>291723</td>\n",
              "      <td>291184</td>\n",
              "      <td>290239</td>\n",
              "      <td>294236</td>\n",
              "      <td>294953</td>\n",
              "      <td>295908</td>\n",
              "      <td>296424</td>\n",
              "      <td>299648</td>\n",
              "      <td>302606</td>\n",
              "      <td>301114</td>\n",
              "      <td>297181</td>\n",
              "      <td>293839</td>\n",
              "      <td>294065</td>\n",
              "      <td>295498</td>\n",
              "      <td>295092</td>\n",
              "      <td>293889</td>\n",
              "      <td>297426</td>\n",
              "      <td>299421</td>\n",
              "      <td>304778</td>\n",
              "      <td>304579</td>\n",
              "      <td>306390</td>\n",
              "      <td>301283</td>\n",
              "      <td>304187</td>\n",
              "      <td>304719</td>\n",
              "      <td>327136</td>\n",
              "    </tr>\n",
              "    <tr>\n",
              "      <th>3</th>\n",
              "      <td>Barnet</td>\n",
              "      <td>E09000003</td>\n",
              "      <td>93284.5</td>\n",
              "      <td>93190.2</td>\n",
              "      <td>92247.5</td>\n",
              "      <td>90762.9</td>\n",
              "      <td>90258</td>\n",
              "      <td>90107.2</td>\n",
              "      <td>91441.2</td>\n",
              "      <td>92361.3</td>\n",
              "      <td>93273.1</td>\n",
              "      <td>92567.4</td>\n",
              "      <td>90883.2</td>\n",
              "      <td>91133.9</td>\n",
              "      <td>91111</td>\n",
              "      <td>92429.5</td>\n",
              "      <td>91409.8</td>\n",
              "      <td>92394.2</td>\n",
              "      <td>91058.9</td>\n",
              "      <td>91978.2</td>\n",
              "      <td>92444.1</td>\n",
              "      <td>95516</td>\n",
              "      <td>97489.9</td>\n",
              "      <td>97844.5</td>\n",
              "      <td>97155</td>\n",
              "      <td>97174.3</td>\n",
              "      <td>98558.8</td>\n",
              "      <td>100076</td>\n",
              "      <td>101130</td>\n",
              "      <td>101201</td>\n",
              "      <td>103287</td>\n",
              "      <td>104609</td>\n",
              "      <td>107235</td>\n",
              "      <td>108730</td>\n",
              "      <td>112380</td>\n",
              "      <td>114515</td>\n",
              "      <td>115356</td>\n",
              "      <td>115521</td>\n",
              "      <td>115902</td>\n",
              "      <td>116995</td>\n",
              "      <td>...</td>\n",
              "      <td>522223</td>\n",
              "      <td>532924</td>\n",
              "      <td>540501</td>\n",
              "      <td>549401</td>\n",
              "      <td>543699</td>\n",
              "      <td>544994</td>\n",
              "      <td>531344</td>\n",
              "      <td>527928</td>\n",
              "      <td>526223</td>\n",
              "      <td>537986</td>\n",
              "      <td>544090</td>\n",
              "      <td>541563</td>\n",
              "      <td>538718</td>\n",
              "      <td>531832</td>\n",
              "      <td>531736</td>\n",
              "      <td>538120</td>\n",
              "      <td>541502</td>\n",
              "      <td>533088</td>\n",
              "      <td>524702</td>\n",
              "      <td>523397</td>\n",
              "      <td>533715</td>\n",
              "      <td>534951</td>\n",
              "      <td>537284</td>\n",
              "      <td>535060</td>\n",
              "      <td>533810</td>\n",
              "      <td>528639</td>\n",
              "      <td>523679</td>\n",
              "      <td>516531</td>\n",
              "      <td>512343</td>\n",
              "      <td>503911</td>\n",
              "      <td>512694</td>\n",
              "      <td>514668</td>\n",
              "      <td>528577</td>\n",
              "      <td>526670</td>\n",
              "      <td>525678</td>\n",
              "      <td>522639</td>\n",
              "      <td>519306</td>\n",
              "      <td>520115</td>\n",
              "      <td>520966</td>\n",
              "      <td>532569</td>\n",
              "    </tr>\n",
              "    <tr>\n",
              "      <th>4</th>\n",
              "      <td>Bexley</td>\n",
              "      <td>E09000004</td>\n",
              "      <td>64958.1</td>\n",
              "      <td>64787.9</td>\n",
              "      <td>64367.5</td>\n",
              "      <td>64277.7</td>\n",
              "      <td>63997.1</td>\n",
              "      <td>64252.3</td>\n",
              "      <td>63722.7</td>\n",
              "      <td>64432.6</td>\n",
              "      <td>64509.5</td>\n",
              "      <td>64529.9</td>\n",
              "      <td>63846</td>\n",
              "      <td>63816.9</td>\n",
              "      <td>63996</td>\n",
              "      <td>64503.7</td>\n",
              "      <td>64788</td>\n",
              "      <td>65285.9</td>\n",
              "      <td>65080.7</td>\n",
              "      <td>65119.8</td>\n",
              "      <td>65150.6</td>\n",
              "      <td>65960.2</td>\n",
              "      <td>66500.6</td>\n",
              "      <td>66659.3</td>\n",
              "      <td>66353.8</td>\n",
              "      <td>66486.4</td>\n",
              "      <td>67350.6</td>\n",
              "      <td>67981.2</td>\n",
              "      <td>67823.8</td>\n",
              "      <td>68470.5</td>\n",
              "      <td>69353.5</td>\n",
              "      <td>70764.1</td>\n",
              "      <td>71129.8</td>\n",
              "      <td>72140.7</td>\n",
              "      <td>72830.3</td>\n",
              "      <td>73378.8</td>\n",
              "      <td>73619.6</td>\n",
              "      <td>74630.1</td>\n",
              "      <td>76863.5</td>\n",
              "      <td>78064.9</td>\n",
              "      <td>...</td>\n",
              "      <td>331025</td>\n",
              "      <td>330066</td>\n",
              "      <td>328824</td>\n",
              "      <td>328858</td>\n",
              "      <td>329046</td>\n",
              "      <td>333651</td>\n",
              "      <td>336980</td>\n",
              "      <td>344041</td>\n",
              "      <td>344517</td>\n",
              "      <td>339808</td>\n",
              "      <td>335705</td>\n",
              "      <td>336239</td>\n",
              "      <td>340598</td>\n",
              "      <td>342096</td>\n",
              "      <td>341254</td>\n",
              "      <td>339632</td>\n",
              "      <td>338476</td>\n",
              "      <td>336410</td>\n",
              "      <td>341480</td>\n",
              "      <td>345693</td>\n",
              "      <td>347531</td>\n",
              "      <td>346151</td>\n",
              "      <td>344681</td>\n",
              "      <td>344172</td>\n",
              "      <td>343667</td>\n",
              "      <td>338708</td>\n",
              "      <td>339186</td>\n",
              "      <td>336680</td>\n",
              "      <td>339330</td>\n",
              "      <td>336981</td>\n",
              "      <td>339324</td>\n",
              "      <td>338346</td>\n",
              "      <td>337523</td>\n",
              "      <td>333340</td>\n",
              "      <td>332920</td>\n",
              "      <td>333657</td>\n",
              "      <td>336302</td>\n",
              "      <td>334430</td>\n",
              "      <td>334845</td>\n",
              "      <td>331679</td>\n",
              "    </tr>\n",
              "    <tr>\n",
              "      <th>5</th>\n",
              "      <td>Brent</td>\n",
              "      <td>E09000005</td>\n",
              "      <td>71306.6</td>\n",
              "      <td>72022.3</td>\n",
              "      <td>72015.8</td>\n",
              "      <td>72965.6</td>\n",
              "      <td>73704</td>\n",
              "      <td>74310.5</td>\n",
              "      <td>74127</td>\n",
              "      <td>73547</td>\n",
              "      <td>73789.5</td>\n",
              "      <td>73264.1</td>\n",
              "      <td>72782</td>\n",
              "      <td>72523.7</td>\n",
              "      <td>72806.3</td>\n",
              "      <td>73084.1</td>\n",
              "      <td>72779.8</td>\n",
              "      <td>72369.7</td>\n",
              "      <td>72994.8</td>\n",
              "      <td>73497.6</td>\n",
              "      <td>75551.2</td>\n",
              "      <td>76913.7</td>\n",
              "      <td>78667.1</td>\n",
              "      <td>77990.9</td>\n",
              "      <td>77914.2</td>\n",
              "      <td>78261.6</td>\n",
              "      <td>79664</td>\n",
              "      <td>81213.2</td>\n",
              "      <td>82321.9</td>\n",
              "      <td>82771</td>\n",
              "      <td>82729.7</td>\n",
              "      <td>83876.3</td>\n",
              "      <td>87636.9</td>\n",
              "      <td>90164</td>\n",
              "      <td>91472.6</td>\n",
              "      <td>92208.2</td>\n",
              "      <td>92895.5</td>\n",
              "      <td>94035.6</td>\n",
              "      <td>93746</td>\n",
              "      <td>95171.5</td>\n",
              "      <td>...</td>\n",
              "      <td>490418</td>\n",
              "      <td>472373</td>\n",
              "      <td>475608</td>\n",
              "      <td>484944</td>\n",
              "      <td>488416</td>\n",
              "      <td>490062</td>\n",
              "      <td>492335</td>\n",
              "      <td>491003</td>\n",
              "      <td>498192</td>\n",
              "      <td>490673</td>\n",
              "      <td>489039</td>\n",
              "      <td>485285</td>\n",
              "      <td>494515</td>\n",
              "      <td>493882</td>\n",
              "      <td>493621</td>\n",
              "      <td>482967</td>\n",
              "      <td>485434</td>\n",
              "      <td>480836</td>\n",
              "      <td>492743</td>\n",
              "      <td>505028</td>\n",
              "      <td>519754</td>\n",
              "      <td>510930</td>\n",
              "      <td>493489</td>\n",
              "      <td>479104</td>\n",
              "      <td>476356</td>\n",
              "      <td>479106</td>\n",
              "      <td>478494</td>\n",
              "      <td>475430</td>\n",
              "      <td>486253</td>\n",
              "      <td>481803</td>\n",
              "      <td>474821</td>\n",
              "      <td>473849</td>\n",
              "      <td>488784</td>\n",
              "      <td>501533</td>\n",
              "      <td>494770</td>\n",
              "      <td>432188</td>\n",
              "      <td>427126</td>\n",
              "      <td>424663</td>\n",
              "      <td>471574</td>\n",
              "      <td>446966</td>\n",
              "    </tr>\n",
              "  </tbody>\n",
              "</table>\n",
              "<p>5 rows × 305 columns</p>\n",
              "</div>"
            ],
            "text/plain": [
              "0          Unnamed: 0        NaN  ... 2020-02-01 00:00:00 2020-03-01 00:00:00\n",
              "1      City of London  E09000001  ...              765416              792583\n",
              "2  Barking & Dagenham  E09000002  ...              304719              327136\n",
              "3              Barnet  E09000003  ...              520966              532569\n",
              "4              Bexley  E09000004  ...              334845              331679\n",
              "5               Brent  E09000005  ...              471574              446966\n",
              "\n",
              "[5 rows x 305 columns]"
            ]
          },
          "metadata": {
            "tags": []
          },
          "execution_count": 95
        }
      ]
    },
    {
      "cell_type": "code",
      "metadata": {
        "id": "Ki6JPSpGCZeL",
        "colab_type": "code",
        "colab": {
          "base_uri": "https://localhost:8080/",
          "height": 321
        },
        "outputId": "5a07e515-d48e-47d7-ee33-d5bb098e1d9a"
      },
      "source": [
        "properties.rename(columns={properties.columns[0]:'borough', properties.columns[1]:'code'}, inplace=True)\n",
        "properties.head()"
      ],
      "execution_count": 96,
      "outputs": [
        {
          "output_type": "execute_result",
          "data": {
            "text/html": [
              "<div>\n",
              "<style scoped>\n",
              "    .dataframe tbody tr th:only-of-type {\n",
              "        vertical-align: middle;\n",
              "    }\n",
              "\n",
              "    .dataframe tbody tr th {\n",
              "        vertical-align: top;\n",
              "    }\n",
              "\n",
              "    .dataframe thead th {\n",
              "        text-align: right;\n",
              "    }\n",
              "</style>\n",
              "<table border=\"1\" class=\"dataframe\">\n",
              "  <thead>\n",
              "    <tr style=\"text-align: right;\">\n",
              "      <th></th>\n",
              "      <th>borough</th>\n",
              "      <th>code</th>\n",
              "      <th>1995-01-01 00:00:00</th>\n",
              "      <th>1995-02-01 00:00:00</th>\n",
              "      <th>1995-03-01 00:00:00</th>\n",
              "      <th>1995-04-01 00:00:00</th>\n",
              "      <th>1995-05-01 00:00:00</th>\n",
              "      <th>1995-06-01 00:00:00</th>\n",
              "      <th>1995-07-01 00:00:00</th>\n",
              "      <th>1995-08-01 00:00:00</th>\n",
              "      <th>1995-09-01 00:00:00</th>\n",
              "      <th>1995-10-01 00:00:00</th>\n",
              "      <th>1995-11-01 00:00:00</th>\n",
              "      <th>1995-12-01 00:00:00</th>\n",
              "      <th>1996-01-01 00:00:00</th>\n",
              "      <th>1996-02-01 00:00:00</th>\n",
              "      <th>1996-03-01 00:00:00</th>\n",
              "      <th>1996-04-01 00:00:00</th>\n",
              "      <th>1996-05-01 00:00:00</th>\n",
              "      <th>1996-06-01 00:00:00</th>\n",
              "      <th>1996-07-01 00:00:00</th>\n",
              "      <th>1996-08-01 00:00:00</th>\n",
              "      <th>1996-09-01 00:00:00</th>\n",
              "      <th>1996-10-01 00:00:00</th>\n",
              "      <th>1996-11-01 00:00:00</th>\n",
              "      <th>1996-12-01 00:00:00</th>\n",
              "      <th>1997-01-01 00:00:00</th>\n",
              "      <th>1997-02-01 00:00:00</th>\n",
              "      <th>1997-03-01 00:00:00</th>\n",
              "      <th>1997-04-01 00:00:00</th>\n",
              "      <th>1997-05-01 00:00:00</th>\n",
              "      <th>1997-06-01 00:00:00</th>\n",
              "      <th>1997-07-01 00:00:00</th>\n",
              "      <th>1997-08-01 00:00:00</th>\n",
              "      <th>1997-09-01 00:00:00</th>\n",
              "      <th>1997-10-01 00:00:00</th>\n",
              "      <th>1997-11-01 00:00:00</th>\n",
              "      <th>1997-12-01 00:00:00</th>\n",
              "      <th>1998-01-01 00:00:00</th>\n",
              "      <th>1998-02-01 00:00:00</th>\n",
              "      <th>...</th>\n",
              "      <th>2016-12-01 00:00:00</th>\n",
              "      <th>2017-01-01 00:00:00</th>\n",
              "      <th>2017-02-01 00:00:00</th>\n",
              "      <th>2017-03-01 00:00:00</th>\n",
              "      <th>2017-04-01 00:00:00</th>\n",
              "      <th>2017-05-01 00:00:00</th>\n",
              "      <th>2017-06-01 00:00:00</th>\n",
              "      <th>2017-07-01 00:00:00</th>\n",
              "      <th>2017-08-01 00:00:00</th>\n",
              "      <th>2017-09-01 00:00:00</th>\n",
              "      <th>2017-10-01 00:00:00</th>\n",
              "      <th>2017-11-01 00:00:00</th>\n",
              "      <th>2017-12-01 00:00:00</th>\n",
              "      <th>2018-01-01 00:00:00</th>\n",
              "      <th>2018-02-01 00:00:00</th>\n",
              "      <th>2018-03-01 00:00:00</th>\n",
              "      <th>2018-04-01 00:00:00</th>\n",
              "      <th>2018-05-01 00:00:00</th>\n",
              "      <th>2018-06-01 00:00:00</th>\n",
              "      <th>2018-07-01 00:00:00</th>\n",
              "      <th>2018-08-01 00:00:00</th>\n",
              "      <th>2018-09-01 00:00:00</th>\n",
              "      <th>2018-10-01 00:00:00</th>\n",
              "      <th>2018-11-01 00:00:00</th>\n",
              "      <th>2018-12-01 00:00:00</th>\n",
              "      <th>2019-01-01 00:00:00</th>\n",
              "      <th>2019-02-01 00:00:00</th>\n",
              "      <th>2019-03-01 00:00:00</th>\n",
              "      <th>2019-04-01 00:00:00</th>\n",
              "      <th>2019-05-01 00:00:00</th>\n",
              "      <th>2019-06-01 00:00:00</th>\n",
              "      <th>2019-07-01 00:00:00</th>\n",
              "      <th>2019-08-01 00:00:00</th>\n",
              "      <th>2019-09-01 00:00:00</th>\n",
              "      <th>2019-10-01 00:00:00</th>\n",
              "      <th>2019-11-01 00:00:00</th>\n",
              "      <th>2019-12-01 00:00:00</th>\n",
              "      <th>2020-01-01 00:00:00</th>\n",
              "      <th>2020-02-01 00:00:00</th>\n",
              "      <th>2020-03-01 00:00:00</th>\n",
              "    </tr>\n",
              "  </thead>\n",
              "  <tbody>\n",
              "    <tr>\n",
              "      <th>1</th>\n",
              "      <td>City of London</td>\n",
              "      <td>E09000001</td>\n",
              "      <td>91449</td>\n",
              "      <td>82202.8</td>\n",
              "      <td>79120.7</td>\n",
              "      <td>77101.2</td>\n",
              "      <td>84409.1</td>\n",
              "      <td>94900.5</td>\n",
              "      <td>110128</td>\n",
              "      <td>112329</td>\n",
              "      <td>104473</td>\n",
              "      <td>108038</td>\n",
              "      <td>117636</td>\n",
              "      <td>127232</td>\n",
              "      <td>108999</td>\n",
              "      <td>93356.7</td>\n",
              "      <td>93706.7</td>\n",
              "      <td>120543</td>\n",
              "      <td>112050</td>\n",
              "      <td>114226</td>\n",
              "      <td>97546.7</td>\n",
              "      <td>114179</td>\n",
              "      <td>108138</td>\n",
              "      <td>98934.2</td>\n",
              "      <td>99706.8</td>\n",
              "      <td>106427</td>\n",
              "      <td>116343</td>\n",
              "      <td>111142</td>\n",
              "      <td>107488</td>\n",
              "      <td>108480</td>\n",
              "      <td>115453</td>\n",
              "      <td>118317</td>\n",
              "      <td>117034</td>\n",
              "      <td>113585</td>\n",
              "      <td>115159</td>\n",
              "      <td>121251</td>\n",
              "      <td>131074</td>\n",
              "      <td>130035</td>\n",
              "      <td>124382</td>\n",
              "      <td>143829</td>\n",
              "      <td>...</td>\n",
              "      <td>811786</td>\n",
              "      <td>820305</td>\n",
              "      <td>820665</td>\n",
              "      <td>853943</td>\n",
              "      <td>906146</td>\n",
              "      <td>939912</td>\n",
              "      <td>930979</td>\n",
              "      <td>854798</td>\n",
              "      <td>847422</td>\n",
              "      <td>836674</td>\n",
              "      <td>818477</td>\n",
              "      <td>790159</td>\n",
              "      <td>778002</td>\n",
              "      <td>802129</td>\n",
              "      <td>783266</td>\n",
              "      <td>740799</td>\n",
              "      <td>732351</td>\n",
              "      <td>796399</td>\n",
              "      <td>789278</td>\n",
              "      <td>809697</td>\n",
              "      <td>784144</td>\n",
              "      <td>800875</td>\n",
              "      <td>802869</td>\n",
              "      <td>764207</td>\n",
              "      <td>811694</td>\n",
              "      <td>865636</td>\n",
              "      <td>894520</td>\n",
              "      <td>853451</td>\n",
              "      <td>738797</td>\n",
              "      <td>719218</td>\n",
              "      <td>761526</td>\n",
              "      <td>756407</td>\n",
              "      <td>813770</td>\n",
              "      <td>810455</td>\n",
              "      <td>826227</td>\n",
              "      <td>776894</td>\n",
              "      <td>737275</td>\n",
              "      <td>757377</td>\n",
              "      <td>765416</td>\n",
              "      <td>792583</td>\n",
              "    </tr>\n",
              "    <tr>\n",
              "      <th>2</th>\n",
              "      <td>Barking &amp; Dagenham</td>\n",
              "      <td>E09000002</td>\n",
              "      <td>50460.2</td>\n",
              "      <td>51085.8</td>\n",
              "      <td>51269</td>\n",
              "      <td>53133.5</td>\n",
              "      <td>53042.2</td>\n",
              "      <td>53700.3</td>\n",
              "      <td>52113.1</td>\n",
              "      <td>52232.2</td>\n",
              "      <td>51471.6</td>\n",
              "      <td>51513.8</td>\n",
              "      <td>50848.7</td>\n",
              "      <td>50945.2</td>\n",
              "      <td>50828.1</td>\n",
              "      <td>51440.7</td>\n",
              "      <td>51907.1</td>\n",
              "      <td>51724</td>\n",
              "      <td>51735.7</td>\n",
              "      <td>50761.4</td>\n",
              "      <td>50621.1</td>\n",
              "      <td>51104.7</td>\n",
              "      <td>51892.7</td>\n",
              "      <td>52533.2</td>\n",
              "      <td>52216</td>\n",
              "      <td>53853.5</td>\n",
              "      <td>54459</td>\n",
              "      <td>55451.5</td>\n",
              "      <td>55004.8</td>\n",
              "      <td>55279.9</td>\n",
              "      <td>54936.9</td>\n",
              "      <td>55286.7</td>\n",
              "      <td>55658.9</td>\n",
              "      <td>56506.7</td>\n",
              "      <td>56306.3</td>\n",
              "      <td>57200.2</td>\n",
              "      <td>57575.3</td>\n",
              "      <td>58025</td>\n",
              "      <td>57559</td>\n",
              "      <td>57360.3</td>\n",
              "      <td>...</td>\n",
              "      <td>285622</td>\n",
              "      <td>282441</td>\n",
              "      <td>280698</td>\n",
              "      <td>278213</td>\n",
              "      <td>280567</td>\n",
              "      <td>286018</td>\n",
              "      <td>289569</td>\n",
              "      <td>291727</td>\n",
              "      <td>290965</td>\n",
              "      <td>292519</td>\n",
              "      <td>293390</td>\n",
              "      <td>293796</td>\n",
              "      <td>292915</td>\n",
              "      <td>291548</td>\n",
              "      <td>292777</td>\n",
              "      <td>291723</td>\n",
              "      <td>291184</td>\n",
              "      <td>290239</td>\n",
              "      <td>294236</td>\n",
              "      <td>294953</td>\n",
              "      <td>295908</td>\n",
              "      <td>296424</td>\n",
              "      <td>299648</td>\n",
              "      <td>302606</td>\n",
              "      <td>301114</td>\n",
              "      <td>297181</td>\n",
              "      <td>293839</td>\n",
              "      <td>294065</td>\n",
              "      <td>295498</td>\n",
              "      <td>295092</td>\n",
              "      <td>293889</td>\n",
              "      <td>297426</td>\n",
              "      <td>299421</td>\n",
              "      <td>304778</td>\n",
              "      <td>304579</td>\n",
              "      <td>306390</td>\n",
              "      <td>301283</td>\n",
              "      <td>304187</td>\n",
              "      <td>304719</td>\n",
              "      <td>327136</td>\n",
              "    </tr>\n",
              "    <tr>\n",
              "      <th>3</th>\n",
              "      <td>Barnet</td>\n",
              "      <td>E09000003</td>\n",
              "      <td>93284.5</td>\n",
              "      <td>93190.2</td>\n",
              "      <td>92247.5</td>\n",
              "      <td>90762.9</td>\n",
              "      <td>90258</td>\n",
              "      <td>90107.2</td>\n",
              "      <td>91441.2</td>\n",
              "      <td>92361.3</td>\n",
              "      <td>93273.1</td>\n",
              "      <td>92567.4</td>\n",
              "      <td>90883.2</td>\n",
              "      <td>91133.9</td>\n",
              "      <td>91111</td>\n",
              "      <td>92429.5</td>\n",
              "      <td>91409.8</td>\n",
              "      <td>92394.2</td>\n",
              "      <td>91058.9</td>\n",
              "      <td>91978.2</td>\n",
              "      <td>92444.1</td>\n",
              "      <td>95516</td>\n",
              "      <td>97489.9</td>\n",
              "      <td>97844.5</td>\n",
              "      <td>97155</td>\n",
              "      <td>97174.3</td>\n",
              "      <td>98558.8</td>\n",
              "      <td>100076</td>\n",
              "      <td>101130</td>\n",
              "      <td>101201</td>\n",
              "      <td>103287</td>\n",
              "      <td>104609</td>\n",
              "      <td>107235</td>\n",
              "      <td>108730</td>\n",
              "      <td>112380</td>\n",
              "      <td>114515</td>\n",
              "      <td>115356</td>\n",
              "      <td>115521</td>\n",
              "      <td>115902</td>\n",
              "      <td>116995</td>\n",
              "      <td>...</td>\n",
              "      <td>522223</td>\n",
              "      <td>532924</td>\n",
              "      <td>540501</td>\n",
              "      <td>549401</td>\n",
              "      <td>543699</td>\n",
              "      <td>544994</td>\n",
              "      <td>531344</td>\n",
              "      <td>527928</td>\n",
              "      <td>526223</td>\n",
              "      <td>537986</td>\n",
              "      <td>544090</td>\n",
              "      <td>541563</td>\n",
              "      <td>538718</td>\n",
              "      <td>531832</td>\n",
              "      <td>531736</td>\n",
              "      <td>538120</td>\n",
              "      <td>541502</td>\n",
              "      <td>533088</td>\n",
              "      <td>524702</td>\n",
              "      <td>523397</td>\n",
              "      <td>533715</td>\n",
              "      <td>534951</td>\n",
              "      <td>537284</td>\n",
              "      <td>535060</td>\n",
              "      <td>533810</td>\n",
              "      <td>528639</td>\n",
              "      <td>523679</td>\n",
              "      <td>516531</td>\n",
              "      <td>512343</td>\n",
              "      <td>503911</td>\n",
              "      <td>512694</td>\n",
              "      <td>514668</td>\n",
              "      <td>528577</td>\n",
              "      <td>526670</td>\n",
              "      <td>525678</td>\n",
              "      <td>522639</td>\n",
              "      <td>519306</td>\n",
              "      <td>520115</td>\n",
              "      <td>520966</td>\n",
              "      <td>532569</td>\n",
              "    </tr>\n",
              "    <tr>\n",
              "      <th>4</th>\n",
              "      <td>Bexley</td>\n",
              "      <td>E09000004</td>\n",
              "      <td>64958.1</td>\n",
              "      <td>64787.9</td>\n",
              "      <td>64367.5</td>\n",
              "      <td>64277.7</td>\n",
              "      <td>63997.1</td>\n",
              "      <td>64252.3</td>\n",
              "      <td>63722.7</td>\n",
              "      <td>64432.6</td>\n",
              "      <td>64509.5</td>\n",
              "      <td>64529.9</td>\n",
              "      <td>63846</td>\n",
              "      <td>63816.9</td>\n",
              "      <td>63996</td>\n",
              "      <td>64503.7</td>\n",
              "      <td>64788</td>\n",
              "      <td>65285.9</td>\n",
              "      <td>65080.7</td>\n",
              "      <td>65119.8</td>\n",
              "      <td>65150.6</td>\n",
              "      <td>65960.2</td>\n",
              "      <td>66500.6</td>\n",
              "      <td>66659.3</td>\n",
              "      <td>66353.8</td>\n",
              "      <td>66486.4</td>\n",
              "      <td>67350.6</td>\n",
              "      <td>67981.2</td>\n",
              "      <td>67823.8</td>\n",
              "      <td>68470.5</td>\n",
              "      <td>69353.5</td>\n",
              "      <td>70764.1</td>\n",
              "      <td>71129.8</td>\n",
              "      <td>72140.7</td>\n",
              "      <td>72830.3</td>\n",
              "      <td>73378.8</td>\n",
              "      <td>73619.6</td>\n",
              "      <td>74630.1</td>\n",
              "      <td>76863.5</td>\n",
              "      <td>78064.9</td>\n",
              "      <td>...</td>\n",
              "      <td>331025</td>\n",
              "      <td>330066</td>\n",
              "      <td>328824</td>\n",
              "      <td>328858</td>\n",
              "      <td>329046</td>\n",
              "      <td>333651</td>\n",
              "      <td>336980</td>\n",
              "      <td>344041</td>\n",
              "      <td>344517</td>\n",
              "      <td>339808</td>\n",
              "      <td>335705</td>\n",
              "      <td>336239</td>\n",
              "      <td>340598</td>\n",
              "      <td>342096</td>\n",
              "      <td>341254</td>\n",
              "      <td>339632</td>\n",
              "      <td>338476</td>\n",
              "      <td>336410</td>\n",
              "      <td>341480</td>\n",
              "      <td>345693</td>\n",
              "      <td>347531</td>\n",
              "      <td>346151</td>\n",
              "      <td>344681</td>\n",
              "      <td>344172</td>\n",
              "      <td>343667</td>\n",
              "      <td>338708</td>\n",
              "      <td>339186</td>\n",
              "      <td>336680</td>\n",
              "      <td>339330</td>\n",
              "      <td>336981</td>\n",
              "      <td>339324</td>\n",
              "      <td>338346</td>\n",
              "      <td>337523</td>\n",
              "      <td>333340</td>\n",
              "      <td>332920</td>\n",
              "      <td>333657</td>\n",
              "      <td>336302</td>\n",
              "      <td>334430</td>\n",
              "      <td>334845</td>\n",
              "      <td>331679</td>\n",
              "    </tr>\n",
              "    <tr>\n",
              "      <th>5</th>\n",
              "      <td>Brent</td>\n",
              "      <td>E09000005</td>\n",
              "      <td>71306.6</td>\n",
              "      <td>72022.3</td>\n",
              "      <td>72015.8</td>\n",
              "      <td>72965.6</td>\n",
              "      <td>73704</td>\n",
              "      <td>74310.5</td>\n",
              "      <td>74127</td>\n",
              "      <td>73547</td>\n",
              "      <td>73789.5</td>\n",
              "      <td>73264.1</td>\n",
              "      <td>72782</td>\n",
              "      <td>72523.7</td>\n",
              "      <td>72806.3</td>\n",
              "      <td>73084.1</td>\n",
              "      <td>72779.8</td>\n",
              "      <td>72369.7</td>\n",
              "      <td>72994.8</td>\n",
              "      <td>73497.6</td>\n",
              "      <td>75551.2</td>\n",
              "      <td>76913.7</td>\n",
              "      <td>78667.1</td>\n",
              "      <td>77990.9</td>\n",
              "      <td>77914.2</td>\n",
              "      <td>78261.6</td>\n",
              "      <td>79664</td>\n",
              "      <td>81213.2</td>\n",
              "      <td>82321.9</td>\n",
              "      <td>82771</td>\n",
              "      <td>82729.7</td>\n",
              "      <td>83876.3</td>\n",
              "      <td>87636.9</td>\n",
              "      <td>90164</td>\n",
              "      <td>91472.6</td>\n",
              "      <td>92208.2</td>\n",
              "      <td>92895.5</td>\n",
              "      <td>94035.6</td>\n",
              "      <td>93746</td>\n",
              "      <td>95171.5</td>\n",
              "      <td>...</td>\n",
              "      <td>490418</td>\n",
              "      <td>472373</td>\n",
              "      <td>475608</td>\n",
              "      <td>484944</td>\n",
              "      <td>488416</td>\n",
              "      <td>490062</td>\n",
              "      <td>492335</td>\n",
              "      <td>491003</td>\n",
              "      <td>498192</td>\n",
              "      <td>490673</td>\n",
              "      <td>489039</td>\n",
              "      <td>485285</td>\n",
              "      <td>494515</td>\n",
              "      <td>493882</td>\n",
              "      <td>493621</td>\n",
              "      <td>482967</td>\n",
              "      <td>485434</td>\n",
              "      <td>480836</td>\n",
              "      <td>492743</td>\n",
              "      <td>505028</td>\n",
              "      <td>519754</td>\n",
              "      <td>510930</td>\n",
              "      <td>493489</td>\n",
              "      <td>479104</td>\n",
              "      <td>476356</td>\n",
              "      <td>479106</td>\n",
              "      <td>478494</td>\n",
              "      <td>475430</td>\n",
              "      <td>486253</td>\n",
              "      <td>481803</td>\n",
              "      <td>474821</td>\n",
              "      <td>473849</td>\n",
              "      <td>488784</td>\n",
              "      <td>501533</td>\n",
              "      <td>494770</td>\n",
              "      <td>432188</td>\n",
              "      <td>427126</td>\n",
              "      <td>424663</td>\n",
              "      <td>471574</td>\n",
              "      <td>446966</td>\n",
              "    </tr>\n",
              "  </tbody>\n",
              "</table>\n",
              "<p>5 rows × 305 columns</p>\n",
              "</div>"
            ],
            "text/plain": [
              "0             borough       code  ... 2020-02-01 00:00:00 2020-03-01 00:00:00\n",
              "1      City of London  E09000001  ...              765416              792583\n",
              "2  Barking & Dagenham  E09000002  ...              304719              327136\n",
              "3              Barnet  E09000003  ...              520966              532569\n",
              "4              Bexley  E09000004  ...              334845              331679\n",
              "5               Brent  E09000005  ...              471574              446966\n",
              "\n",
              "[5 rows x 305 columns]"
            ]
          },
          "metadata": {
            "tags": []
          },
          "execution_count": 96
        }
      ]
    },
    {
      "cell_type": "markdown",
      "metadata": {
        "colab_type": "text",
        "id": "jy8BzXHmoWEw"
      },
      "source": [
        "**2.4.Transforming the data**\n",
        "\n",
        "Remember what Wes McKinney said about tidy data? \n",
        "\n",
        "You might need to **melt** your DataFrame here. "
      ]
    },
    {
      "cell_type": "code",
      "metadata": {
        "colab_type": "code",
        "id": "S2wM0qLuo2Zt",
        "colab": {
          "base_uri": "https://localhost:8080/",
          "height": 111
        },
        "outputId": "597a0707-c377-4e0c-baab-6b7c43e887b9"
      },
      "source": [
        "props_melted = pd.melt(properties, id_vars=['borough','code'])\n",
        "props_melted.head(2)"
      ],
      "execution_count": 97,
      "outputs": [
        {
          "output_type": "execute_result",
          "data": {
            "text/html": [
              "<div>\n",
              "<style scoped>\n",
              "    .dataframe tbody tr th:only-of-type {\n",
              "        vertical-align: middle;\n",
              "    }\n",
              "\n",
              "    .dataframe tbody tr th {\n",
              "        vertical-align: top;\n",
              "    }\n",
              "\n",
              "    .dataframe thead th {\n",
              "        text-align: right;\n",
              "    }\n",
              "</style>\n",
              "<table border=\"1\" class=\"dataframe\">\n",
              "  <thead>\n",
              "    <tr style=\"text-align: right;\">\n",
              "      <th></th>\n",
              "      <th>borough</th>\n",
              "      <th>code</th>\n",
              "      <th>0</th>\n",
              "      <th>value</th>\n",
              "    </tr>\n",
              "  </thead>\n",
              "  <tbody>\n",
              "    <tr>\n",
              "      <th>0</th>\n",
              "      <td>City of London</td>\n",
              "      <td>E09000001</td>\n",
              "      <td>1995-01-01</td>\n",
              "      <td>91449</td>\n",
              "    </tr>\n",
              "    <tr>\n",
              "      <th>1</th>\n",
              "      <td>Barking &amp; Dagenham</td>\n",
              "      <td>E09000002</td>\n",
              "      <td>1995-01-01</td>\n",
              "      <td>50460.2</td>\n",
              "    </tr>\n",
              "  </tbody>\n",
              "</table>\n",
              "</div>"
            ],
            "text/plain": [
              "              borough       code          0    value\n",
              "0      City of London  E09000001 1995-01-01    91449\n",
              "1  Barking & Dagenham  E09000002 1995-01-01  50460.2"
            ]
          },
          "metadata": {
            "tags": []
          },
          "execution_count": 97
        }
      ]
    },
    {
      "cell_type": "code",
      "metadata": {
        "id": "m9Q6W0ucJcKo",
        "colab_type": "code",
        "colab": {
          "base_uri": "https://localhost:8080/",
          "height": 111
        },
        "outputId": "df92f5c2-9a95-4e4a-a8df-ec1fba84df83"
      },
      "source": [
        "props_melted.rename(columns={0:'date','value':'price'}, inplace=True)\n",
        "props_melted.head(2)"
      ],
      "execution_count": 99,
      "outputs": [
        {
          "output_type": "execute_result",
          "data": {
            "text/html": [
              "<div>\n",
              "<style scoped>\n",
              "    .dataframe tbody tr th:only-of-type {\n",
              "        vertical-align: middle;\n",
              "    }\n",
              "\n",
              "    .dataframe tbody tr th {\n",
              "        vertical-align: top;\n",
              "    }\n",
              "\n",
              "    .dataframe thead th {\n",
              "        text-align: right;\n",
              "    }\n",
              "</style>\n",
              "<table border=\"1\" class=\"dataframe\">\n",
              "  <thead>\n",
              "    <tr style=\"text-align: right;\">\n",
              "      <th></th>\n",
              "      <th>borough</th>\n",
              "      <th>code</th>\n",
              "      <th>date</th>\n",
              "      <th>price</th>\n",
              "    </tr>\n",
              "  </thead>\n",
              "  <tbody>\n",
              "    <tr>\n",
              "      <th>0</th>\n",
              "      <td>City of London</td>\n",
              "      <td>E09000001</td>\n",
              "      <td>1995-01-01</td>\n",
              "      <td>91449</td>\n",
              "    </tr>\n",
              "    <tr>\n",
              "      <th>1</th>\n",
              "      <td>Barking &amp; Dagenham</td>\n",
              "      <td>E09000002</td>\n",
              "      <td>1995-01-01</td>\n",
              "      <td>50460.2</td>\n",
              "    </tr>\n",
              "  </tbody>\n",
              "</table>\n",
              "</div>"
            ],
            "text/plain": [
              "              borough       code       date    price\n",
              "0      City of London  E09000001 1995-01-01    91449\n",
              "1  Barking & Dagenham  E09000002 1995-01-01  50460.2"
            ]
          },
          "metadata": {
            "tags": []
          },
          "execution_count": 99
        }
      ]
    },
    {
      "cell_type": "markdown",
      "metadata": {
        "colab_type": "text",
        "id": "7kIsgAo7o3mf"
      },
      "source": [
        "Remember to make sure your column data types are all correct. Average prices, for example, should be floating point numbers... "
      ]
    },
    {
      "cell_type": "code",
      "metadata": {
        "colab_type": "code",
        "id": "ZcR4IHbcpOaq",
        "colab": {
          "base_uri": "https://localhost:8080/",
          "height": 204
        },
        "outputId": "76f88fc8-3fbf-4d20-ab76-38d7db59c85c"
      },
      "source": [
        "props_melted.info()"
      ],
      "execution_count": 100,
      "outputs": [
        {
          "output_type": "stream",
          "text": [
            "<class 'pandas.core.frame.DataFrame'>\n",
            "RangeIndex: 14544 entries, 0 to 14543\n",
            "Data columns (total 4 columns):\n",
            " #   Column   Non-Null Count  Dtype         \n",
            "---  ------   --------------  -----         \n",
            " 0   borough  14544 non-null  object        \n",
            " 1   code     13635 non-null  object        \n",
            " 2   date     14544 non-null  datetime64[ns]\n",
            " 3   price    13635 non-null  object        \n",
            "dtypes: datetime64[ns](1), object(3)\n",
            "memory usage: 454.6+ KB\n"
          ],
          "name": "stdout"
        }
      ]
    },
    {
      "cell_type": "code",
      "metadata": {
        "id": "cnccAIw5KEVj",
        "colab_type": "code",
        "colab": {}
      },
      "source": [
        "props_melted['price'] = pd.to_numeric(props_melted['price'])"
      ],
      "execution_count": 101,
      "outputs": []
    },
    {
      "cell_type": "code",
      "metadata": {
        "id": "Adr7uKOlKmra",
        "colab_type": "code",
        "colab": {
          "base_uri": "https://localhost:8080/",
          "height": 204
        },
        "outputId": "ee9b19c2-ece9-4fae-91e9-36b619cde179"
      },
      "source": [
        "props_melted.info()"
      ],
      "execution_count": 102,
      "outputs": [
        {
          "output_type": "stream",
          "text": [
            "<class 'pandas.core.frame.DataFrame'>\n",
            "RangeIndex: 14544 entries, 0 to 14543\n",
            "Data columns (total 4 columns):\n",
            " #   Column   Non-Null Count  Dtype         \n",
            "---  ------   --------------  -----         \n",
            " 0   borough  14544 non-null  object        \n",
            " 1   code     13635 non-null  object        \n",
            " 2   date     14544 non-null  datetime64[ns]\n",
            " 3   price    13635 non-null  float64       \n",
            "dtypes: datetime64[ns](1), float64(1), object(2)\n",
            "memory usage: 454.6+ KB\n"
          ],
          "name": "stdout"
        }
      ]
    },
    {
      "cell_type": "markdown",
      "metadata": {
        "colab_type": "text",
        "id": "knLUXHLypOtw"
      },
      "source": [
        "**2.5. Cleaning the data (part 3)**\n",
        "\n",
        "Do we have an equal number of observations in the ID, Average Price, Month, and London Borough columns? Remember that there are only 32 London Boroughs. How many entries do you have in that column? \n",
        "\n",
        "Check out the contents of the London Borough column, and if you find null values, get rid of them however you see fit. "
      ]
    },
    {
      "cell_type": "code",
      "metadata": {
        "id": "KMzwl7k7OH8-",
        "colab_type": "code",
        "colab": {
          "base_uri": "https://localhost:8080/",
          "height": 34
        },
        "outputId": "8c06d5c7-6616-4cf9-b49c-6f1ec5959f37"
      },
      "source": [
        "props_melted['borough'].unique().shape"
      ],
      "execution_count": 103,
      "outputs": [
        {
          "output_type": "execute_result",
          "data": {
            "text/plain": [
              "(48,)"
            ]
          },
          "metadata": {
            "tags": []
          },
          "execution_count": 103
        }
      ]
    },
    {
      "cell_type": "code",
      "metadata": {
        "colab_type": "code",
        "id": "BnvTW5a3p0fC",
        "colab": {
          "base_uri": "https://localhost:8080/",
          "height": 221
        },
        "outputId": "6a1309af-3faa-4cfe-9bff-f164da653e22"
      },
      "source": [
        "props_melted['borough'].unique()"
      ],
      "execution_count": 104,
      "outputs": [
        {
          "output_type": "execute_result",
          "data": {
            "text/plain": [
              "array(['City of London', 'Barking & Dagenham', 'Barnet', 'Bexley',\n",
              "       'Brent', 'Bromley', 'Camden', 'Croydon', 'Ealing', 'Enfield',\n",
              "       'Greenwich', 'Hackney', 'Hammersmith & Fulham', 'Haringey',\n",
              "       'Harrow', 'Havering', 'Hillingdon', 'Hounslow', 'Islington',\n",
              "       'Kensington & Chelsea', 'Kingston upon Thames', 'Lambeth',\n",
              "       'Lewisham', 'Merton', 'Newham', 'Redbridge',\n",
              "       'Richmond upon Thames', 'Southwark', 'Sutton', 'Tower Hamlets',\n",
              "       'Waltham Forest', 'Wandsworth', 'Westminster', 'Unnamed: 34',\n",
              "       'Inner London', 'Outer London', 'Unnamed: 37', 'NORTH EAST',\n",
              "       'NORTH WEST', 'YORKS & THE HUMBER', 'EAST MIDLANDS',\n",
              "       'WEST MIDLANDS', 'EAST OF ENGLAND', 'LONDON', 'SOUTH EAST',\n",
              "       'SOUTH WEST', 'Unnamed: 47', 'England'], dtype=object)"
            ]
          },
          "metadata": {
            "tags": []
          },
          "execution_count": 104
        }
      ]
    },
    {
      "cell_type": "code",
      "metadata": {
        "id": "6c0kniU4K-9K",
        "colab_type": "code",
        "colab": {
          "base_uri": "https://localhost:8080/",
          "height": 204
        },
        "outputId": "b4300933-0b0c-4b93-b299-625229b53f4d"
      },
      "source": [
        "props_melted[props_melted['borough']=='Unnamed: 34'].head()"
      ],
      "execution_count": 105,
      "outputs": [
        {
          "output_type": "execute_result",
          "data": {
            "text/html": [
              "<div>\n",
              "<style scoped>\n",
              "    .dataframe tbody tr th:only-of-type {\n",
              "        vertical-align: middle;\n",
              "    }\n",
              "\n",
              "    .dataframe tbody tr th {\n",
              "        vertical-align: top;\n",
              "    }\n",
              "\n",
              "    .dataframe thead th {\n",
              "        text-align: right;\n",
              "    }\n",
              "</style>\n",
              "<table border=\"1\" class=\"dataframe\">\n",
              "  <thead>\n",
              "    <tr style=\"text-align: right;\">\n",
              "      <th></th>\n",
              "      <th>borough</th>\n",
              "      <th>code</th>\n",
              "      <th>date</th>\n",
              "      <th>price</th>\n",
              "    </tr>\n",
              "  </thead>\n",
              "  <tbody>\n",
              "    <tr>\n",
              "      <th>33</th>\n",
              "      <td>Unnamed: 34</td>\n",
              "      <td>NaN</td>\n",
              "      <td>1995-01-01</td>\n",
              "      <td>NaN</td>\n",
              "    </tr>\n",
              "    <tr>\n",
              "      <th>81</th>\n",
              "      <td>Unnamed: 34</td>\n",
              "      <td>NaN</td>\n",
              "      <td>1995-02-01</td>\n",
              "      <td>NaN</td>\n",
              "    </tr>\n",
              "    <tr>\n",
              "      <th>129</th>\n",
              "      <td>Unnamed: 34</td>\n",
              "      <td>NaN</td>\n",
              "      <td>1995-03-01</td>\n",
              "      <td>NaN</td>\n",
              "    </tr>\n",
              "    <tr>\n",
              "      <th>177</th>\n",
              "      <td>Unnamed: 34</td>\n",
              "      <td>NaN</td>\n",
              "      <td>1995-04-01</td>\n",
              "      <td>NaN</td>\n",
              "    </tr>\n",
              "    <tr>\n",
              "      <th>225</th>\n",
              "      <td>Unnamed: 34</td>\n",
              "      <td>NaN</td>\n",
              "      <td>1995-05-01</td>\n",
              "      <td>NaN</td>\n",
              "    </tr>\n",
              "  </tbody>\n",
              "</table>\n",
              "</div>"
            ],
            "text/plain": [
              "         borough code       date  price\n",
              "33   Unnamed: 34  NaN 1995-01-01    NaN\n",
              "81   Unnamed: 34  NaN 1995-02-01    NaN\n",
              "129  Unnamed: 34  NaN 1995-03-01    NaN\n",
              "177  Unnamed: 34  NaN 1995-04-01    NaN\n",
              "225  Unnamed: 34  NaN 1995-05-01    NaN"
            ]
          },
          "metadata": {
            "tags": []
          },
          "execution_count": 105
        }
      ]
    },
    {
      "cell_type": "code",
      "metadata": {
        "id": "cqzj2mA2K3pr",
        "colab_type": "code",
        "colab": {
          "base_uri": "https://localhost:8080/",
          "height": 204
        },
        "outputId": "ed1671a6-714a-47ff-e6ff-64c56e204f15"
      },
      "source": [
        "props_clean = props_melted[props_melted['code'].notna()]\n",
        "props_clean['borough'].unique()"
      ],
      "execution_count": 106,
      "outputs": [
        {
          "output_type": "execute_result",
          "data": {
            "text/plain": [
              "array(['City of London', 'Barking & Dagenham', 'Barnet', 'Bexley',\n",
              "       'Brent', 'Bromley', 'Camden', 'Croydon', 'Ealing', 'Enfield',\n",
              "       'Greenwich', 'Hackney', 'Hammersmith & Fulham', 'Haringey',\n",
              "       'Harrow', 'Havering', 'Hillingdon', 'Hounslow', 'Islington',\n",
              "       'Kensington & Chelsea', 'Kingston upon Thames', 'Lambeth',\n",
              "       'Lewisham', 'Merton', 'Newham', 'Redbridge',\n",
              "       'Richmond upon Thames', 'Southwark', 'Sutton', 'Tower Hamlets',\n",
              "       'Waltham Forest', 'Wandsworth', 'Westminster', 'Inner London',\n",
              "       'Outer London', 'NORTH EAST', 'NORTH WEST', 'YORKS & THE HUMBER',\n",
              "       'EAST MIDLANDS', 'WEST MIDLANDS', 'EAST OF ENGLAND', 'LONDON',\n",
              "       'SOUTH EAST', 'SOUTH WEST', 'England'], dtype=object)"
            ]
          },
          "metadata": {
            "tags": []
          },
          "execution_count": 106
        }
      ]
    },
    {
      "cell_type": "code",
      "metadata": {
        "id": "Ua4EsPdpMMm3",
        "colab_type": "code",
        "colab": {}
      },
      "source": [
        "nonBoroughs = ['City of London','Inner London', 'Outer London', \n",
        "               'NORTH EAST', 'NORTH WEST', 'YORKS & THE HUMBER', \n",
        "               'EAST MIDLANDS', 'WEST MIDLANDS',\n",
        "              'EAST OF ENGLAND', 'LONDON', 'SOUTH EAST', \n",
        "              'SOUTH WEST', 'England']"
      ],
      "execution_count": 107,
      "outputs": []
    },
    {
      "cell_type": "code",
      "metadata": {
        "id": "cdNJYw0xOwq9",
        "colab_type": "code",
        "colab": {}
      },
      "source": [
        "nb = props_clean['borough'].isin(nonBoroughs)"
      ],
      "execution_count": 108,
      "outputs": []
    },
    {
      "cell_type": "code",
      "metadata": {
        "id": "6V3FfWKAO_Jp",
        "colab_type": "code",
        "colab": {
          "base_uri": "https://localhost:8080/",
          "height": 142
        },
        "outputId": "9d54fe78-f192-4941-e4d5-0721481b1d02"
      },
      "source": [
        "props_clean = props_clean[~nb]\n",
        "props_clean.head(3)"
      ],
      "execution_count": 109,
      "outputs": [
        {
          "output_type": "execute_result",
          "data": {
            "text/html": [
              "<div>\n",
              "<style scoped>\n",
              "    .dataframe tbody tr th:only-of-type {\n",
              "        vertical-align: middle;\n",
              "    }\n",
              "\n",
              "    .dataframe tbody tr th {\n",
              "        vertical-align: top;\n",
              "    }\n",
              "\n",
              "    .dataframe thead th {\n",
              "        text-align: right;\n",
              "    }\n",
              "</style>\n",
              "<table border=\"1\" class=\"dataframe\">\n",
              "  <thead>\n",
              "    <tr style=\"text-align: right;\">\n",
              "      <th></th>\n",
              "      <th>borough</th>\n",
              "      <th>code</th>\n",
              "      <th>date</th>\n",
              "      <th>price</th>\n",
              "    </tr>\n",
              "  </thead>\n",
              "  <tbody>\n",
              "    <tr>\n",
              "      <th>1</th>\n",
              "      <td>Barking &amp; Dagenham</td>\n",
              "      <td>E09000002</td>\n",
              "      <td>1995-01-01</td>\n",
              "      <td>50460.22660</td>\n",
              "    </tr>\n",
              "    <tr>\n",
              "      <th>2</th>\n",
              "      <td>Barnet</td>\n",
              "      <td>E09000003</td>\n",
              "      <td>1995-01-01</td>\n",
              "      <td>93284.51832</td>\n",
              "    </tr>\n",
              "    <tr>\n",
              "      <th>3</th>\n",
              "      <td>Bexley</td>\n",
              "      <td>E09000004</td>\n",
              "      <td>1995-01-01</td>\n",
              "      <td>64958.09036</td>\n",
              "    </tr>\n",
              "  </tbody>\n",
              "</table>\n",
              "</div>"
            ],
            "text/plain": [
              "              borough       code       date        price\n",
              "1  Barking & Dagenham  E09000002 1995-01-01  50460.22660\n",
              "2              Barnet  E09000003 1995-01-01  93284.51832\n",
              "3              Bexley  E09000004 1995-01-01  64958.09036"
            ]
          },
          "metadata": {
            "tags": []
          },
          "execution_count": 109
        }
      ]
    },
    {
      "cell_type": "code",
      "metadata": {
        "id": "SWxXlHBZPTZt",
        "colab_type": "code",
        "colab": {
          "base_uri": "https://localhost:8080/",
          "height": 153
        },
        "outputId": "80fe9bc7-ec74-4fcf-f153-aeefcd3d28ed"
      },
      "source": [
        "props_clean['borough'].unique()"
      ],
      "execution_count": 110,
      "outputs": [
        {
          "output_type": "execute_result",
          "data": {
            "text/plain": [
              "array(['Barking & Dagenham', 'Barnet', 'Bexley', 'Brent', 'Bromley',\n",
              "       'Camden', 'Croydon', 'Ealing', 'Enfield', 'Greenwich', 'Hackney',\n",
              "       'Hammersmith & Fulham', 'Haringey', 'Harrow', 'Havering',\n",
              "       'Hillingdon', 'Hounslow', 'Islington', 'Kensington & Chelsea',\n",
              "       'Kingston upon Thames', 'Lambeth', 'Lewisham', 'Merton', 'Newham',\n",
              "       'Redbridge', 'Richmond upon Thames', 'Southwark', 'Sutton',\n",
              "       'Tower Hamlets', 'Waltham Forest', 'Wandsworth', 'Westminster'],\n",
              "      dtype=object)"
            ]
          },
          "metadata": {
            "tags": []
          },
          "execution_count": 110
        }
      ]
    },
    {
      "cell_type": "code",
      "metadata": {
        "id": "rOXyUujkREBD",
        "colab_type": "code",
        "colab": {
          "base_uri": "https://localhost:8080/",
          "height": 34
        },
        "outputId": "c3d499e1-7c21-4024-a2b5-205901a35089"
      },
      "source": [
        "props_clean['borough'].unique().shape"
      ],
      "execution_count": 111,
      "outputs": [
        {
          "output_type": "execute_result",
          "data": {
            "text/plain": [
              "(32,)"
            ]
          },
          "metadata": {
            "tags": []
          },
          "execution_count": 111
        }
      ]
    },
    {
      "cell_type": "markdown",
      "metadata": {
        "colab_type": "text",
        "id": "PGEx6mJsp6dG"
      },
      "source": [
        "**2.6. Visualizing the data**\n",
        "\n",
        "To visualize the data, why not subset on a particular London Borough? Maybe do a line plot of Month against Average Price?"
      ]
    },
    {
      "cell_type": "code",
      "metadata": {
        "colab_type": "code",
        "id": "nAg5pT9cqHAR",
        "colab": {
          "base_uri": "https://localhost:8080/",
          "height": 296
        },
        "outputId": "ba06d283-5325-4150-ff37-d07e183f7ed4"
      },
      "source": [
        "props_clean[props_clean['borough'] == 'Richmond upon Thames'].plot(x='date', y='price')"
      ],
      "execution_count": 112,
      "outputs": [
        {
          "output_type": "execute_result",
          "data": {
            "text/plain": [
              "<matplotlib.axes._subplots.AxesSubplot at 0x7f6330198ef0>"
            ]
          },
          "metadata": {
            "tags": []
          },
          "execution_count": 112
        },
        {
          "output_type": "display_data",
          "data": {
            "image/png": "[encoded data removed]",
            "text/plain": [
              "<Figure size 432x288 with 1 Axes>"
            ]
          },
          "metadata": {
            "tags": [],
            "needs_background": "light"
          }
        }
      ]
    },
    {
      "cell_type": "markdown",
      "metadata": {
        "colab_type": "text",
        "id": "aWTPqSJeqHnC"
      },
      "source": [
        "To limit the number of data points you have, you might want to extract the year from every month value your *Month* column. \n",
        "\n",
        "To this end, you *could* apply a ***lambda function***. Your logic could work as follows:\n",
        "1. look through the `Month` column\n",
        "2. extract the year from each individual value in that column \n",
        "3. store that corresponding year as separate column. \n",
        "\n",
        "Whether you go ahead with this is up to you. Just so long as you answer our initial brief: which boroughs of London have seen the greatest house price increase, on average, over the past two decades? "
      ]
    },
    {
      "cell_type": "code",
      "metadata": {
        "colab_type": "code",
        "id": "e0DF92cyqnu8",
        "colab": {}
      },
      "source": [
        "props_clean['year'] = pd.DatetimeIndex(props_clean['date']).year"
      ],
      "execution_count": 113,
      "outputs": []
    },
    {
      "cell_type": "code",
      "metadata": {
        "id": "946-bZhFUtHj",
        "colab_type": "code",
        "colab": {}
      },
      "source": [
        "two_years = props_clean[(props_clean['year']==1998) | (props_clean['year']==2018)]"
      ],
      "execution_count": 114,
      "outputs": []
    },
    {
      "cell_type": "code",
      "metadata": {
        "id": "7vlTHPs2VIO0",
        "colab_type": "code",
        "colab": {
          "base_uri": "https://localhost:8080/",
          "height": 204
        },
        "outputId": "0cc8e265-ffc1-4f2d-9089-8e402fd2cc81"
      },
      "source": [
        "two_years.head()"
      ],
      "execution_count": 115,
      "outputs": [
        {
          "output_type": "execute_result",
          "data": {
            "text/html": [
              "<div>\n",
              "<style scoped>\n",
              "    .dataframe tbody tr th:only-of-type {\n",
              "        vertical-align: middle;\n",
              "    }\n",
              "\n",
              "    .dataframe tbody tr th {\n",
              "        vertical-align: top;\n",
              "    }\n",
              "\n",
              "    .dataframe thead th {\n",
              "        text-align: right;\n",
              "    }\n",
              "</style>\n",
              "<table border=\"1\" class=\"dataframe\">\n",
              "  <thead>\n",
              "    <tr style=\"text-align: right;\">\n",
              "      <th></th>\n",
              "      <th>borough</th>\n",
              "      <th>code</th>\n",
              "      <th>date</th>\n",
              "      <th>price</th>\n",
              "      <th>year</th>\n",
              "    </tr>\n",
              "  </thead>\n",
              "  <tbody>\n",
              "    <tr>\n",
              "      <th>1729</th>\n",
              "      <td>Barking &amp; Dagenham</td>\n",
              "      <td>E09000002</td>\n",
              "      <td>1998-01-01</td>\n",
              "      <td>57558.99414</td>\n",
              "      <td>1998</td>\n",
              "    </tr>\n",
              "    <tr>\n",
              "      <th>1730</th>\n",
              "      <td>Barnet</td>\n",
              "      <td>E09000003</td>\n",
              "      <td>1998-01-01</td>\n",
              "      <td>115902.41030</td>\n",
              "      <td>1998</td>\n",
              "    </tr>\n",
              "    <tr>\n",
              "      <th>1731</th>\n",
              "      <td>Bexley</td>\n",
              "      <td>E09000004</td>\n",
              "      <td>1998-01-01</td>\n",
              "      <td>76863.45528</td>\n",
              "      <td>1998</td>\n",
              "    </tr>\n",
              "    <tr>\n",
              "      <th>1732</th>\n",
              "      <td>Brent</td>\n",
              "      <td>E09000005</td>\n",
              "      <td>1998-01-01</td>\n",
              "      <td>93745.96395</td>\n",
              "      <td>1998</td>\n",
              "    </tr>\n",
              "    <tr>\n",
              "      <th>1733</th>\n",
              "      <td>Bromley</td>\n",
              "      <td>E09000006</td>\n",
              "      <td>1998-01-01</td>\n",
              "      <td>102341.81560</td>\n",
              "      <td>1998</td>\n",
              "    </tr>\n",
              "  </tbody>\n",
              "</table>\n",
              "</div>"
            ],
            "text/plain": [
              "                 borough       code       date         price  year\n",
              "1729  Barking & Dagenham  E09000002 1998-01-01   57558.99414  1998\n",
              "1730              Barnet  E09000003 1998-01-01  115902.41030  1998\n",
              "1731              Bexley  E09000004 1998-01-01   76863.45528  1998\n",
              "1732               Brent  E09000005 1998-01-01   93745.96395  1998\n",
              "1733             Bromley  E09000006 1998-01-01  102341.81560  1998"
            ]
          },
          "metadata": {
            "tags": []
          },
          "execution_count": 115
        }
      ]
    },
    {
      "cell_type": "markdown",
      "metadata": {
        "colab_type": "text",
        "id": "2knuTxAEqoJ4"
      },
      "source": [
        "**3. Modeling**\n",
        "\n",
        "Consider creating a function that will calculate a ratio of house prices, comparing the price of a house in 2018 to the price in 1998.\n",
        "\n",
        "Consider calling this function create_price_ratio.\n",
        "\n",
        "You'd want this function to:\n",
        "1. Take a filter of dfg, specifically where this filter constrains the London_Borough, as an argument. For example, one admissible argument should be: dfg[dfg['London_Borough']=='Camden'].\n",
        "2. Get the Average Price for that Borough, for the years 1998 and 2018.\n",
        "4. Calculate the ratio of the Average Price for 1998 divided by the Average Price for 2018.\n",
        "5. Return that ratio.\n",
        "\n",
        "Once you've written this function, you ultimately want to use it to iterate through all the unique London_Boroughs and work out the ratio capturing the difference of house prices between 1998 and 2018.\n",
        "\n",
        "Bear in mind: you don't have to write a function like this if you don't want to. If you can solve the brief otherwise, then great! \n",
        "\n",
        "***Hint***: This section should test the skills you acquired in:\n",
        "- Python Data Science Toolbox - Part One, all modules"
      ]
    },
    {
      "cell_type": "code",
      "metadata": {
        "colab_type": "code",
        "id": "cKTyr437UgDa",
        "colab": {
          "base_uri": "https://localhost:8080/",
          "height": 235
        },
        "outputId": "ee50e3d1-16e0-4e92-9d42-cac4e7ccd04e"
      },
      "source": [
        "tyg = two_years.groupby(['borough','year']).mean()\n",
        "tyg.head()"
      ],
      "execution_count": 116,
      "outputs": [
        {
          "output_type": "execute_result",
          "data": {
            "text/html": [
              "<div>\n",
              "<style scoped>\n",
              "    .dataframe tbody tr th:only-of-type {\n",
              "        vertical-align: middle;\n",
              "    }\n",
              "\n",
              "    .dataframe tbody tr th {\n",
              "        vertical-align: top;\n",
              "    }\n",
              "\n",
              "    .dataframe thead th {\n",
              "        text-align: right;\n",
              "    }\n",
              "</style>\n",
              "<table border=\"1\" class=\"dataframe\">\n",
              "  <thead>\n",
              "    <tr style=\"text-align: right;\">\n",
              "      <th></th>\n",
              "      <th></th>\n",
              "      <th>price</th>\n",
              "    </tr>\n",
              "    <tr>\n",
              "      <th>borough</th>\n",
              "      <th>year</th>\n",
              "      <th></th>\n",
              "    </tr>\n",
              "  </thead>\n",
              "  <tbody>\n",
              "    <tr>\n",
              "      <th rowspan=\"2\" valign=\"top\">Barking &amp; Dagenham</th>\n",
              "      <th>1998</th>\n",
              "      <td>60285.821083</td>\n",
              "    </tr>\n",
              "    <tr>\n",
              "      <th>2018</th>\n",
              "      <td>295196.673612</td>\n",
              "    </tr>\n",
              "    <tr>\n",
              "      <th rowspan=\"2\" valign=\"top\">Barnet</th>\n",
              "      <th>1998</th>\n",
              "      <td>122359.468033</td>\n",
              "    </tr>\n",
              "    <tr>\n",
              "      <th>2018</th>\n",
              "      <td>533266.534055</td>\n",
              "    </tr>\n",
              "    <tr>\n",
              "      <th>Bexley</th>\n",
              "      <th>1998</th>\n",
              "      <td>80632.020822</td>\n",
              "    </tr>\n",
              "  </tbody>\n",
              "</table>\n",
              "</div>"
            ],
            "text/plain": [
              "                                 price\n",
              "borough            year               \n",
              "Barking & Dagenham 1998   60285.821083\n",
              "                   2018  295196.673612\n",
              "Barnet             1998  122359.468033\n",
              "                   2018  533266.534055\n",
              "Bexley             1998   80632.020822"
            ]
          },
          "metadata": {
            "tags": []
          },
          "execution_count": 116
        }
      ]
    },
    {
      "cell_type": "code",
      "metadata": {
        "id": "Lzmzpr6gfoqJ",
        "colab_type": "code",
        "colab": {
          "base_uri": "https://localhost:8080/",
          "height": 204
        },
        "outputId": "1d6b4b51-5371-4349-c9fc-2b79b1cddc38"
      },
      "source": [
        "df = tyg.reset_index()\n",
        "df.head()"
      ],
      "execution_count": 117,
      "outputs": [
        {
          "output_type": "execute_result",
          "data": {
            "text/html": [
              "<div>\n",
              "<style scoped>\n",
              "    .dataframe tbody tr th:only-of-type {\n",
              "        vertical-align: middle;\n",
              "    }\n",
              "\n",
              "    .dataframe tbody tr th {\n",
              "        vertical-align: top;\n",
              "    }\n",
              "\n",
              "    .dataframe thead th {\n",
              "        text-align: right;\n",
              "    }\n",
              "</style>\n",
              "<table border=\"1\" class=\"dataframe\">\n",
              "  <thead>\n",
              "    <tr style=\"text-align: right;\">\n",
              "      <th></th>\n",
              "      <th>borough</th>\n",
              "      <th>year</th>\n",
              "      <th>price</th>\n",
              "    </tr>\n",
              "  </thead>\n",
              "  <tbody>\n",
              "    <tr>\n",
              "      <th>0</th>\n",
              "      <td>Barking &amp; Dagenham</td>\n",
              "      <td>1998</td>\n",
              "      <td>60285.821083</td>\n",
              "    </tr>\n",
              "    <tr>\n",
              "      <th>1</th>\n",
              "      <td>Barking &amp; Dagenham</td>\n",
              "      <td>2018</td>\n",
              "      <td>295196.673612</td>\n",
              "    </tr>\n",
              "    <tr>\n",
              "      <th>2</th>\n",
              "      <td>Barnet</td>\n",
              "      <td>1998</td>\n",
              "      <td>122359.468033</td>\n",
              "    </tr>\n",
              "    <tr>\n",
              "      <th>3</th>\n",
              "      <td>Barnet</td>\n",
              "      <td>2018</td>\n",
              "      <td>533266.534055</td>\n",
              "    </tr>\n",
              "    <tr>\n",
              "      <th>4</th>\n",
              "      <td>Bexley</td>\n",
              "      <td>1998</td>\n",
              "      <td>80632.020822</td>\n",
              "    </tr>\n",
              "  </tbody>\n",
              "</table>\n",
              "</div>"
            ],
            "text/plain": [
              "              borough  year          price\n",
              "0  Barking & Dagenham  1998   60285.821083\n",
              "1  Barking & Dagenham  2018  295196.673612\n",
              "2              Barnet  1998  122359.468033\n",
              "3              Barnet  2018  533266.534055\n",
              "4              Bexley  1998   80632.020822"
            ]
          },
          "metadata": {
            "tags": []
          },
          "execution_count": 117
        }
      ]
    },
    {
      "cell_type": "code",
      "metadata": {
        "id": "z-hsVL_T5Gyn",
        "colab_type": "code",
        "colab": {}
      },
      "source": [
        "d1998 = df[df['year']==1998]\n",
        "d2018 = df[df['year']==2018]\n",
        "d_m = d1998.merge(d2018, on='borough')\n",
        "d_m.columns = ['borough','1998','price_1998','2018','price_2018']"
      ],
      "execution_count": 118,
      "outputs": []
    },
    {
      "cell_type": "code",
      "metadata": {
        "id": "wWAS-YGM6AV2",
        "colab_type": "code",
        "colab": {
          "base_uri": "https://localhost:8080/",
          "height": 204
        },
        "outputId": "a8571af8-77f7-4881-9970-ab3af9f3bbeb"
      },
      "source": [
        "d_m.head()"
      ],
      "execution_count": 119,
      "outputs": [
        {
          "output_type": "execute_result",
          "data": {
            "text/html": [
              "<div>\n",
              "<style scoped>\n",
              "    .dataframe tbody tr th:only-of-type {\n",
              "        vertical-align: middle;\n",
              "    }\n",
              "\n",
              "    .dataframe tbody tr th {\n",
              "        vertical-align: top;\n",
              "    }\n",
              "\n",
              "    .dataframe thead th {\n",
              "        text-align: right;\n",
              "    }\n",
              "</style>\n",
              "<table border=\"1\" class=\"dataframe\">\n",
              "  <thead>\n",
              "    <tr style=\"text-align: right;\">\n",
              "      <th></th>\n",
              "      <th>borough</th>\n",
              "      <th>1998</th>\n",
              "      <th>price_1998</th>\n",
              "      <th>2018</th>\n",
              "      <th>price_2018</th>\n",
              "    </tr>\n",
              "  </thead>\n",
              "  <tbody>\n",
              "    <tr>\n",
              "      <th>0</th>\n",
              "      <td>Barking &amp; Dagenham</td>\n",
              "      <td>1998</td>\n",
              "      <td>60285.821083</td>\n",
              "      <td>2018</td>\n",
              "      <td>295196.673612</td>\n",
              "    </tr>\n",
              "    <tr>\n",
              "      <th>1</th>\n",
              "      <td>Barnet</td>\n",
              "      <td>1998</td>\n",
              "      <td>122359.468033</td>\n",
              "      <td>2018</td>\n",
              "      <td>533266.534055</td>\n",
              "    </tr>\n",
              "    <tr>\n",
              "      <th>2</th>\n",
              "      <td>Bexley</td>\n",
              "      <td>1998</td>\n",
              "      <td>80632.020822</td>\n",
              "      <td>2018</td>\n",
              "      <td>342603.605654</td>\n",
              "    </tr>\n",
              "    <tr>\n",
              "      <th>3</th>\n",
              "      <td>Brent</td>\n",
              "      <td>1998</td>\n",
              "      <td>100692.590417</td>\n",
              "      <td>2018</td>\n",
              "      <td>492845.371253</td>\n",
              "    </tr>\n",
              "    <tr>\n",
              "      <th>4</th>\n",
              "      <td>Bromley</td>\n",
              "      <td>1998</td>\n",
              "      <td>108286.520467</td>\n",
              "      <td>2018</td>\n",
              "      <td>443409.985635</td>\n",
              "    </tr>\n",
              "  </tbody>\n",
              "</table>\n",
              "</div>"
            ],
            "text/plain": [
              "              borough  1998     price_1998  2018     price_2018\n",
              "0  Barking & Dagenham  1998   60285.821083  2018  295196.673612\n",
              "1              Barnet  1998  122359.468033  2018  533266.534055\n",
              "2              Bexley  1998   80632.020822  2018  342603.605654\n",
              "3               Brent  1998  100692.590417  2018  492845.371253\n",
              "4             Bromley  1998  108286.520467  2018  443409.985635"
            ]
          },
          "metadata": {
            "tags": []
          },
          "execution_count": 119
        }
      ]
    },
    {
      "cell_type": "code",
      "metadata": {
        "id": "Lc3Yg9BD6GaG",
        "colab_type": "code",
        "colab": {
          "base_uri": "https://localhost:8080/",
          "height": 204
        },
        "outputId": "f09f7a35-fc50-442d-9605-3d5ee5eda704"
      },
      "source": [
        "d_m['20_yr_ratio'] = d_m['price_2018']/d_m['price_1998']\n",
        "d_m.head()"
      ],
      "execution_count": 120,
      "outputs": [
        {
          "output_type": "execute_result",
          "data": {
            "text/html": [
              "<div>\n",
              "<style scoped>\n",
              "    .dataframe tbody tr th:only-of-type {\n",
              "        vertical-align: middle;\n",
              "    }\n",
              "\n",
              "    .dataframe tbody tr th {\n",
              "        vertical-align: top;\n",
              "    }\n",
              "\n",
              "    .dataframe thead th {\n",
              "        text-align: right;\n",
              "    }\n",
              "</style>\n",
              "<table border=\"1\" class=\"dataframe\">\n",
              "  <thead>\n",
              "    <tr style=\"text-align: right;\">\n",
              "      <th></th>\n",
              "      <th>borough</th>\n",
              "      <th>1998</th>\n",
              "      <th>price_1998</th>\n",
              "      <th>2018</th>\n",
              "      <th>price_2018</th>\n",
              "      <th>20_yr_ratio</th>\n",
              "    </tr>\n",
              "  </thead>\n",
              "  <tbody>\n",
              "    <tr>\n",
              "      <th>0</th>\n",
              "      <td>Barking &amp; Dagenham</td>\n",
              "      <td>1998</td>\n",
              "      <td>60285.821083</td>\n",
              "      <td>2018</td>\n",
              "      <td>295196.673612</td>\n",
              "      <td>4.896619</td>\n",
              "    </tr>\n",
              "    <tr>\n",
              "      <th>1</th>\n",
              "      <td>Barnet</td>\n",
              "      <td>1998</td>\n",
              "      <td>122359.468033</td>\n",
              "      <td>2018</td>\n",
              "      <td>533266.534055</td>\n",
              "      <td>4.358196</td>\n",
              "    </tr>\n",
              "    <tr>\n",
              "      <th>2</th>\n",
              "      <td>Bexley</td>\n",
              "      <td>1998</td>\n",
              "      <td>80632.020822</td>\n",
              "      <td>2018</td>\n",
              "      <td>342603.605654</td>\n",
              "      <td>4.248977</td>\n",
              "    </tr>\n",
              "    <tr>\n",
              "      <th>3</th>\n",
              "      <td>Brent</td>\n",
              "      <td>1998</td>\n",
              "      <td>100692.590417</td>\n",
              "      <td>2018</td>\n",
              "      <td>492845.371253</td>\n",
              "      <td>4.894554</td>\n",
              "    </tr>\n",
              "    <tr>\n",
              "      <th>4</th>\n",
              "      <td>Bromley</td>\n",
              "      <td>1998</td>\n",
              "      <td>108286.520467</td>\n",
              "      <td>2018</td>\n",
              "      <td>443409.985635</td>\n",
              "      <td>4.094785</td>\n",
              "    </tr>\n",
              "  </tbody>\n",
              "</table>\n",
              "</div>"
            ],
            "text/plain": [
              "              borough  1998     price_1998  2018     price_2018  20_yr_ratio\n",
              "0  Barking & Dagenham  1998   60285.821083  2018  295196.673612     4.896619\n",
              "1              Barnet  1998  122359.468033  2018  533266.534055     4.358196\n",
              "2              Bexley  1998   80632.020822  2018  342603.605654     4.248977\n",
              "3               Brent  1998  100692.590417  2018  492845.371253     4.894554\n",
              "4             Bromley  1998  108286.520467  2018  443409.985635     4.094785"
            ]
          },
          "metadata": {
            "tags": []
          },
          "execution_count": 120
        }
      ]
    },
    {
      "cell_type": "code",
      "metadata": {
        "id": "QR_VSi56JFbl",
        "colab_type": "code",
        "colab": {
          "base_uri": "https://localhost:8080/",
          "height": 204
        },
        "outputId": "86cf29aa-5384-474e-e543-802f7deb4ec8"
      },
      "source": [
        "d_c = d_m.copy()\n",
        "d_c['dif'] = d_c['price_2018'] - d_c['price_1998']\n",
        "d_c.head()"
      ],
      "execution_count": 131,
      "outputs": [
        {
          "output_type": "execute_result",
          "data": {
            "text/html": [
              "<div>\n",
              "<style scoped>\n",
              "    .dataframe tbody tr th:only-of-type {\n",
              "        vertical-align: middle;\n",
              "    }\n",
              "\n",
              "    .dataframe tbody tr th {\n",
              "        vertical-align: top;\n",
              "    }\n",
              "\n",
              "    .dataframe thead th {\n",
              "        text-align: right;\n",
              "    }\n",
              "</style>\n",
              "<table border=\"1\" class=\"dataframe\">\n",
              "  <thead>\n",
              "    <tr style=\"text-align: right;\">\n",
              "      <th></th>\n",
              "      <th>borough</th>\n",
              "      <th>1998</th>\n",
              "      <th>price_1998</th>\n",
              "      <th>2018</th>\n",
              "      <th>price_2018</th>\n",
              "      <th>20_yr_ratio</th>\n",
              "      <th>dif</th>\n",
              "    </tr>\n",
              "  </thead>\n",
              "  <tbody>\n",
              "    <tr>\n",
              "      <th>0</th>\n",
              "      <td>Barking &amp; Dagenham</td>\n",
              "      <td>1998</td>\n",
              "      <td>60285.821083</td>\n",
              "      <td>2018</td>\n",
              "      <td>295196.673612</td>\n",
              "      <td>4.896619</td>\n",
              "      <td>234910.852528</td>\n",
              "    </tr>\n",
              "    <tr>\n",
              "      <th>1</th>\n",
              "      <td>Barnet</td>\n",
              "      <td>1998</td>\n",
              "      <td>122359.468033</td>\n",
              "      <td>2018</td>\n",
              "      <td>533266.534055</td>\n",
              "      <td>4.358196</td>\n",
              "      <td>410907.066022</td>\n",
              "    </tr>\n",
              "    <tr>\n",
              "      <th>2</th>\n",
              "      <td>Bexley</td>\n",
              "      <td>1998</td>\n",
              "      <td>80632.020822</td>\n",
              "      <td>2018</td>\n",
              "      <td>342603.605654</td>\n",
              "      <td>4.248977</td>\n",
              "      <td>261971.584833</td>\n",
              "    </tr>\n",
              "    <tr>\n",
              "      <th>3</th>\n",
              "      <td>Brent</td>\n",
              "      <td>1998</td>\n",
              "      <td>100692.590417</td>\n",
              "      <td>2018</td>\n",
              "      <td>492845.371253</td>\n",
              "      <td>4.894554</td>\n",
              "      <td>392152.780836</td>\n",
              "    </tr>\n",
              "    <tr>\n",
              "      <th>4</th>\n",
              "      <td>Bromley</td>\n",
              "      <td>1998</td>\n",
              "      <td>108286.520467</td>\n",
              "      <td>2018</td>\n",
              "      <td>443409.985635</td>\n",
              "      <td>4.094785</td>\n",
              "      <td>335123.465168</td>\n",
              "    </tr>\n",
              "  </tbody>\n",
              "</table>\n",
              "</div>"
            ],
            "text/plain": [
              "              borough  1998  ...  20_yr_ratio            dif\n",
              "0  Barking & Dagenham  1998  ...     4.896619  234910.852528\n",
              "1              Barnet  1998  ...     4.358196  410907.066022\n",
              "2              Bexley  1998  ...     4.248977  261971.584833\n",
              "3               Brent  1998  ...     4.894554  392152.780836\n",
              "4             Bromley  1998  ...     4.094785  335123.465168\n",
              "\n",
              "[5 rows x 7 columns]"
            ]
          },
          "metadata": {
            "tags": []
          },
          "execution_count": 131
        }
      ]
    },
    {
      "cell_type": "code",
      "metadata": {
        "id": "W2YKm9i8JUF4",
        "colab_type": "code",
        "colab": {
          "base_uri": "https://localhost:8080/",
          "height": 297
        },
        "outputId": "423771d3-a376-49c5-f338-46fe4100c980"
      },
      "source": [
        "d_c.sort_values(by='dif', ascending=False).head(8)"
      ],
      "execution_count": 134,
      "outputs": [
        {
          "output_type": "execute_result",
          "data": {
            "text/html": [
              "<div>\n",
              "<style scoped>\n",
              "    .dataframe tbody tr th:only-of-type {\n",
              "        vertical-align: middle;\n",
              "    }\n",
              "\n",
              "    .dataframe tbody tr th {\n",
              "        vertical-align: top;\n",
              "    }\n",
              "\n",
              "    .dataframe thead th {\n",
              "        text-align: right;\n",
              "    }\n",
              "</style>\n",
              "<table border=\"1\" class=\"dataframe\">\n",
              "  <thead>\n",
              "    <tr style=\"text-align: right;\">\n",
              "      <th></th>\n",
              "      <th>borough</th>\n",
              "      <th>1998</th>\n",
              "      <th>price_1998</th>\n",
              "      <th>2018</th>\n",
              "      <th>price_2018</th>\n",
              "      <th>20_yr_ratio</th>\n",
              "      <th>dif</th>\n",
              "    </tr>\n",
              "  </thead>\n",
              "  <tbody>\n",
              "    <tr>\n",
              "      <th>18</th>\n",
              "      <td>Kensington &amp; Chelsea</td>\n",
              "      <td>1998</td>\n",
              "      <td>268350.122142</td>\n",
              "      <td>2018</td>\n",
              "      <td>1.363880e+06</td>\n",
              "      <td>5.082465</td>\n",
              "      <td>1.095530e+06</td>\n",
              "    </tr>\n",
              "    <tr>\n",
              "      <th>31</th>\n",
              "      <td>Westminster</td>\n",
              "      <td>1998</td>\n",
              "      <td>190531.949942</td>\n",
              "      <td>2018</td>\n",
              "      <td>1.020025e+06</td>\n",
              "      <td>5.353565</td>\n",
              "      <td>8.294933e+05</td>\n",
              "    </tr>\n",
              "    <tr>\n",
              "      <th>5</th>\n",
              "      <td>Camden</td>\n",
              "      <td>1998</td>\n",
              "      <td>170688.973933</td>\n",
              "      <td>2018</td>\n",
              "      <td>8.424104e+05</td>\n",
              "      <td>4.935353</td>\n",
              "      <td>6.717214e+05</td>\n",
              "    </tr>\n",
              "    <tr>\n",
              "      <th>11</th>\n",
              "      <td>Hammersmith &amp; Fulham</td>\n",
              "      <td>1998</td>\n",
              "      <td>175340.921250</td>\n",
              "      <td>2018</td>\n",
              "      <td>7.255253e+05</td>\n",
              "      <td>4.137798</td>\n",
              "      <td>5.501844e+05</td>\n",
              "    </tr>\n",
              "    <tr>\n",
              "      <th>17</th>\n",
              "      <td>Islington</td>\n",
              "      <td>1998</td>\n",
              "      <td>134148.973300</td>\n",
              "      <td>2018</td>\n",
              "      <td>6.498241e+05</td>\n",
              "      <td>4.844048</td>\n",
              "      <td>5.156751e+05</td>\n",
              "    </tr>\n",
              "    <tr>\n",
              "      <th>25</th>\n",
              "      <td>Richmond upon Thames</td>\n",
              "      <td>1998</td>\n",
              "      <td>162956.066025</td>\n",
              "      <td>2018</td>\n",
              "      <td>6.526654e+05</td>\n",
              "      <td>4.005162</td>\n",
              "      <td>4.897094e+05</td>\n",
              "    </tr>\n",
              "    <tr>\n",
              "      <th>30</th>\n",
              "      <td>Wandsworth</td>\n",
              "      <td>1998</td>\n",
              "      <td>125406.807233</td>\n",
              "      <td>2018</td>\n",
              "      <td>5.966491e+05</td>\n",
              "      <td>4.757709</td>\n",
              "      <td>4.712423e+05</td>\n",
              "    </tr>\n",
              "    <tr>\n",
              "      <th>10</th>\n",
              "      <td>Hackney</td>\n",
              "      <td>1998</td>\n",
              "      <td>87869.535804</td>\n",
              "      <td>2018</td>\n",
              "      <td>5.446405e+05</td>\n",
              "      <td>6.198286</td>\n",
              "      <td>4.567709e+05</td>\n",
              "    </tr>\n",
              "  </tbody>\n",
              "</table>\n",
              "</div>"
            ],
            "text/plain": [
              "                 borough  1998  ...  20_yr_ratio           dif\n",
              "18  Kensington & Chelsea  1998  ...     5.082465  1.095530e+06\n",
              "31           Westminster  1998  ...     5.353565  8.294933e+05\n",
              "5                 Camden  1998  ...     4.935353  6.717214e+05\n",
              "11  Hammersmith & Fulham  1998  ...     4.137798  5.501844e+05\n",
              "17             Islington  1998  ...     4.844048  5.156751e+05\n",
              "25  Richmond upon Thames  1998  ...     4.005162  4.897094e+05\n",
              "30            Wandsworth  1998  ...     4.757709  4.712423e+05\n",
              "10               Hackney  1998  ...     6.198286  4.567709e+05\n",
              "\n",
              "[8 rows x 7 columns]"
            ]
          },
          "metadata": {
            "tags": []
          },
          "execution_count": 134
        }
      ]
    },
    {
      "cell_type": "code",
      "metadata": {
        "id": "lcdWCCBICXAd",
        "colab_type": "code",
        "colab": {}
      },
      "source": [
        "d_m_p = d_m[['borough','price_2018','20_yr_ratio']]\n",
        "d_m_p = d_m_p.sort_values(by='20_yr_ratio', ascending=False)"
      ],
      "execution_count": 121,
      "outputs": []
    },
    {
      "cell_type": "code",
      "metadata": {
        "id": "4YzsAe-aCJCI",
        "colab_type": "code",
        "colab": {
          "base_uri": "https://localhost:8080/",
          "height": 412
        },
        "outputId": "4b055ee0-74bd-457b-ad17-c8729a91d4d6"
      },
      "source": [
        "d_m_p.plot(kind='bar', x='borough', y='20_yr_ratio', ylim=(3.5,6.5))"
      ],
      "execution_count": 122,
      "outputs": [
        {
          "output_type": "execute_result",
          "data": {
            "text/plain": [
              "<matplotlib.axes._subplots.AxesSubplot at 0x7f632ffd4908>"
            ]
          },
          "metadata": {
            "tags": []
          },
          "execution_count": 122
        },
        {
          "output_type": "display_data",
          "data": {
            "image/png": "[encoded data removed]",
            "text/plain": [
              "<Figure size 432x288 with 1 Axes>"
            ]
          },
          "metadata": {
            "tags": [],
            "needs_background": "light"
          }
        }
      ]
    },
    {
      "cell_type": "code",
      "metadata": {
        "id": "O8NiPtal7C1G",
        "colab_type": "code",
        "colab": {
          "base_uri": "https://localhost:8080/",
          "height": 308
        },
        "outputId": "223fefb5-9231-45b9-dd6f-df2e2f9a3276"
      },
      "source": [
        "d_m_p.plot(kind = 'scatter', x='20_yr_ratio',y='price_2018')"
      ],
      "execution_count": 123,
      "outputs": [
        {
          "output_type": "execute_result",
          "data": {
            "text/plain": [
              "<matplotlib.axes._subplots.AxesSubplot at 0x7f63305d6898>"
            ]
          },
          "metadata": {
            "tags": []
          },
          "execution_count": 123
        },
        {
          "output_type": "display_data",
          "data": {
            "image/png": "[encoded data removed]",
            "text/plain": [
              "<Figure size 432x288 with 1 Axes>"
            ]
          },
          "metadata": {
            "tags": [],
            "needs_background": "light"
          }
        }
      ]
    },
    {
      "cell_type": "code",
      "metadata": {
        "id": "WYLd0Gkk7amq",
        "colab_type": "code",
        "colab": {
          "base_uri": "https://localhost:8080/",
          "height": 419
        },
        "outputId": "7f060254-fc34-4eb3-d451-94c353614a84"
      },
      "source": [
        "plt.figure()\n",
        "ax = d_m_p.plot(secondary_y = 'price_2018', kind='bar', x='borough', ylim=(3.5,6.5), grid=True)"
      ],
      "execution_count": 124,
      "outputs": [
        {
          "output_type": "display_data",
          "data": {
            "text/plain": [
              "<Figure size 432x288 with 0 Axes>"
            ]
          },
          "metadata": {
            "tags": []
          }
        },
        {
          "output_type": "display_data",
          "data": {
            "image/png": "[encoded data removed]",
            "text/plain": [
              "<Figure size 432x288 with 2 Axes>"
            ]
          },
          "metadata": {
            "tags": [],
            "needs_background": "light"
          }
        }
      ]
    },
    {
      "cell_type": "code",
      "metadata": {
        "id": "tos_hB_vDIYs",
        "colab_type": "code",
        "colab": {
          "base_uri": "https://localhost:8080/",
          "height": 419
        },
        "outputId": "5decc760-4b9c-4095-cf33-6cfc40e073a2"
      },
      "source": [
        "plt.figure()\n",
        "ax = d_m.sort_values(by='price_1998', ascending=False).plot(kind='bar', x='borough', y=['price_1998','price_2018'])"
      ],
      "execution_count": 125,
      "outputs": [
        {
          "output_type": "display_data",
          "data": {
            "text/plain": [
              "<Figure size 432x288 with 0 Axes>"
            ]
          },
          "metadata": {
            "tags": []
          }
        },
        {
          "output_type": "display_data",
          "data": {
            "image/png": "[encoded data removed]",
            "text/plain": [
              "<Figure size 432x288 with 1 Axes>"
            ]
          },
          "metadata": {
            "tags": [],
            "needs_background": "light"
          }
        }
      ]
    },
    {
      "cell_type": "code",
      "metadata": {
        "id": "tKaBemMqIEyR",
        "colab_type": "code",
        "colab": {
          "base_uri": "https://localhost:8080/",
          "height": 111
        },
        "outputId": "24d30175-b059-48ab-c1e1-6c7b660d2fb5"
      },
      "source": [
        "d_m[d_m['borough'].isin(['Kensington & Chelsea','Hackney'])]"
      ],
      "execution_count": 130,
      "outputs": [
        {
          "output_type": "execute_result",
          "data": {
            "text/html": [
              "<div>\n",
              "<style scoped>\n",
              "    .dataframe tbody tr th:only-of-type {\n",
              "        vertical-align: middle;\n",
              "    }\n",
              "\n",
              "    .dataframe tbody tr th {\n",
              "        vertical-align: top;\n",
              "    }\n",
              "\n",
              "    .dataframe thead th {\n",
              "        text-align: right;\n",
              "    }\n",
              "</style>\n",
              "<table border=\"1\" class=\"dataframe\">\n",
              "  <thead>\n",
              "    <tr style=\"text-align: right;\">\n",
              "      <th></th>\n",
              "      <th>borough</th>\n",
              "      <th>1998</th>\n",
              "      <th>price_1998</th>\n",
              "      <th>2018</th>\n",
              "      <th>price_2018</th>\n",
              "      <th>20_yr_ratio</th>\n",
              "    </tr>\n",
              "  </thead>\n",
              "  <tbody>\n",
              "    <tr>\n",
              "      <th>10</th>\n",
              "      <td>Hackney</td>\n",
              "      <td>1998</td>\n",
              "      <td>87869.535804</td>\n",
              "      <td>2018</td>\n",
              "      <td>5.446405e+05</td>\n",
              "      <td>6.198286</td>\n",
              "    </tr>\n",
              "    <tr>\n",
              "      <th>18</th>\n",
              "      <td>Kensington &amp; Chelsea</td>\n",
              "      <td>1998</td>\n",
              "      <td>268350.122142</td>\n",
              "      <td>2018</td>\n",
              "      <td>1.363880e+06</td>\n",
              "      <td>5.082465</td>\n",
              "    </tr>\n",
              "  </tbody>\n",
              "</table>\n",
              "</div>"
            ],
            "text/plain": [
              "                 borough  1998     price_1998  2018    price_2018  20_yr_ratio\n",
              "10               Hackney  1998   87869.535804  2018  5.446405e+05     6.198286\n",
              "18  Kensington & Chelsea  1998  268350.122142  2018  1.363880e+06     5.082465"
            ]
          },
          "metadata": {
            "tags": []
          },
          "execution_count": 130
        }
      ]
    },
    {
      "cell_type": "markdown",
      "metadata": {
        "colab_type": "text",
        "id": "NzYUI7FxJpgv"
      },
      "source": [
        "### 4. Conclusion\n",
        "What can you conclude? Type out your conclusion below. \n",
        "\n",
        "Look back at your notebook. Think about how you might summarize what you have done, and prepare a quick presentation on it to your mentor at your next meeting. \n",
        "\n",
        "We hope you enjoyed this practical project. It should have consolidated your data hygiene and pandas skills by looking at a real-world problem involving just the kind of dataset you might encounter as a budding data scientist. Congratulations, and looking forward to seeing you at the next step in the course! "
      ]
    },
    {
      "cell_type": "markdown",
      "metadata": {
        "id": "t6kPHjqFEh9V",
        "colab_type": "text"
      },
      "source": [
        "# Conclusion "
      ]
    },
    {
      "cell_type": "markdown",
      "metadata": {
        "id": "hNX9sMhXEqkE",
        "colab_type": "text"
      },
      "source": [
        "The assignment was to address the question: \"Which borough of London has seen \n",
        "the greatest average increase in housing prices over the (approximately) two decades covered by the dataset?\"  The answer to that question is that the borough Hackney had the largest ratio of 2018 average housing price to 1998 average housing price (6.2x). That said, the borough Kensington & Chelsea had the highest average price both in 2018 and in 1998 and had the highest difference in average price between those years.\n"
      ]
    }
  ]
}